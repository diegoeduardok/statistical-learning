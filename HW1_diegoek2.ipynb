{
 "cells": [
  {
   "cell_type": "markdown",
   "metadata": {},
   "source": [
    "# STATS 542: Homework 1"
   ]
  },
  {
   "cell_type": "markdown",
   "metadata": {},
   "source": [
    "<h4><center> Diego Kleiman (diegoek2) </center></h4>\n",
    "<h4><center> Due: Tuesday 11:59 PM CT, Feb 2nd </center></h4>"
   ]
  },
  {
   "cell_type": "markdown",
   "metadata": {},
   "source": [
    "## Basic calculus\n",
    "\n",
    "1. Calculate the derivative of $f(x)$\n",
    "\n",
    "    (a) $f(x) = e^x$\n",
    "    \n",
    "    (b) $f(x) = \\log(1 + x)$\n",
    "    \n",
    "    (c) $f(x) = \\log(1 + e^x)$"
   ]
  },
  {
   "cell_type": "markdown",
   "metadata": {},
   "source": [
    "**Answer**: \n",
    "\n",
    "   (a)  $$ f'(x) = e^x $$\n",
    "   \n",
    "   (b)  $$ f'(x) = \\frac{1}{1+x} $$\n",
    "   \n",
    "   (c)  $$ f'(x) = \\frac{e^x}{1+e^x} $$"
   ]
  },
  {
   "cell_type": "markdown",
   "metadata": {},
   "source": [
    "2. Taylor expansion. Let $f$: $\\mathbb{R} \\rightarrow \\mathbb{R}$ be a twice differentiable function. Please write down the first three terms of its Taylor expansion at point $x = 1$. "
   ]
  },
  {
   "cell_type": "markdown",
   "metadata": {},
   "source": [
    "**Answer**: \n",
    "    $$ f(x) \\approx f(1) + (x - 1) \\cdot f'(1) + (x-1)^2 \\cdot \\frac{f''(1)}{2} $$ "
   ]
  },
  {
   "cell_type": "markdown",
   "metadata": {},
   "source": [
    "3. For the infinite sum $\\sum_{n=1}^\\infty \\frac{1}{n^\\alpha}$, where $\\alpha$ is a positive real number, give the exact range of $\\alpha$ such that the series converges."
   ]
  },
  {
   "cell_type": "markdown",
   "metadata": {},
   "source": [
    "**Answer**: \n",
    "$$ \\alpha \\in (1, \\infty) $$"
   ]
  },
  {
   "cell_type": "markdown",
   "metadata": {},
   "source": [
    "## Linear algebra\n",
    "\n",
    "1. What is the eigendecomposition of a real symmetric matrix $A_{n \\times n}$? Write down one form of that decomposition and explain each term in your formula. Based on these terms, derive $A^{-1/2}$.\n"
   ]
  },
  {
   "cell_type": "markdown",
   "metadata": {},
   "source": [
    "**Answer**: \n",
    "\n",
    "The eigendecomposition of a real symmetric matrix $A_{n \\times n}$ is $A = Q\\Lambda Q^T$ where $Q$ is an orthonormal matrix formed by the eigenvectors of $A$ and $\\Lambda$ is a diagonal matrix that contains the eigenvalues of $A$.\n",
    "\n",
    "Since $\\Lambda$ is diagonal, we can just apply the ${-1/2}$ power to each element of the matrix individually, and then get $A^{-1/2}$ using\n",
    "\n",
    "$$ A^{-1/2} = Q\\Lambda^{-1/2} Q^T $$\n",
    "\n"
   ]
  },
  {
   "cell_type": "markdown",
   "metadata": {},
   "source": [
    "2. What is a symmetric positive definite matrix $A_{n \\times n}$? Give one of equivalent definitions and explain your notation."
   ]
  },
  {
   "cell_type": "markdown",
   "metadata": {},
   "source": [
    "**Answer**:\n",
    "\n",
    "A symmetric positive definite matrix $A$ is a symmetric matrix ($A_{ij} = A_{ji}$) such that the expression $v^TAv$ always evaluates to a positive number for any real-valued vector $v$ of size $n$. If a matrix is positive definite, all its eigenvalues are positive."
   ]
  },
  {
   "cell_type": "markdown",
   "metadata": {},
   "source": [
    "3. True/False. If you claim a statement is false, explain why. For two real matrices $A_{m \\times n}$ and $B_{n \\times m}$\n",
    "\n",
    "    (a) Rank$(A)$ = $\\max\\{m, n\\}$\n",
    "    \n",
    "    (b) If $m = n$, then trace$(A)$ = $\\sum_{i=1}^n A_{ii}$ \n",
    "    \n",
    "    (c) If $A$ is a symmetric matrix, then all eigenvalues of $A$ are real\n",
    "    \n",
    "    (d) If $A$ is a symmetric matrix, $\\lambda_1$ and $\\lambda_2$ are two of its eigen-values (not necessarily different) and $v_1$,$v_2$ are the corresponding eigen-vectors, then $v_1^T v_2 = 0$.\n",
    "    \n",
    "    (e) trace(ABAB) = trace(AABB)"
   ]
  },
  {
   "cell_type": "markdown",
   "metadata": {},
   "source": [
    "**Answer**:\n",
    "\n",
    "(a) False. The rank can be lower if the matrix has one or more redundant (collinear) vectors. And if all the vectors are linearly independent, the correct expression would be Rank$(A) = \\min\\{m, n\\}$.\n",
    "\n",
    "(b) True.\n",
    "\n",
    "(c) True.\n",
    "\n",
    "(d) False. Eigenvectors of the same eigenvalue can be chosen to be mutually orthogonal for a symmetric matrix, but it's not required.\n",
    "\n",
    "(e) False. Cyclic permutations of matrix product preserve the trace, but other permutations don't."
   ]
  },
  {
   "cell_type": "markdown",
   "metadata": {},
   "source": [
    "## Statistics\n",
    "\n",
    "1. $X_1$, $X_2$, $\\ldots$, $X_n$ are i.i.d. ${\\cal N}(\\mu, \\sigma^2)$ random variables, where $\\mu \\in \\mathbb{R}$ and $\\sigma > 0$ is finite. Let $\\bar{X}_n = \\frac{1}{n} \\sum_{i=1}^n X_i$. \n",
    "\n",
    "    (a) What is an unbiased estimator? Is $\\bar{X}_n$ an unbiased estimator of $\\mu$?\n",
    "    \n",
    "    (b) What is $E[(\\bar{X}_n)^2]$ in terms of $n, \\mu, \\sigma$?  \n",
    "    \n",
    "    (c) Give an unbiased estimator of $\\sigma^2$.\n",
    "    \n",
    "    (d) What is a consistent estimator? Is $\\bar{X}_n$ a consistent estimator of $\\mu$?"
   ]
  },
  {
   "cell_type": "markdown",
   "metadata": {},
   "source": [
    "**Answer**:\n",
    "\n",
    "(a) An unbiased estimator is an estimator whose expected value equals the estimated parameter. $\\bar{X}_n$ is an unbiased estimator of $\\mu$ as shown here:\n",
    "$$ E[\\bar{X}_n] = E\\left[\\frac{1}{n} \\sum_{i=1}^{n}X_i\\right] = \\frac{1}{n} \\sum_{i=1}^{n}E[X_i] = \\frac{1}{n} \\sum_{i=1}^{n}\\mu = \\frac{n}{n} \\mu = \\mu $$\n",
    "\n",
    "(b) To solve this question, I will use the facts that \n",
    "$$ Var(\\bar{X}_n) = E[(\\bar{X}_n)^2] - \\mu^2 $$ and\n",
    "\n",
    "$$ Var(\\bar{X}_n) = Var\\left(\\frac{1}{n} \\sum_{i=1}^n X_i\\right) = \\frac{1}{n^2} \\sum_{i=1}^n Var(X_i) = \\frac{\\sigma^2}{n} $$\n",
    "Then the answer comes from solving for $E[(\\bar{X}_n)^2]$\n",
    "$$ E[(\\bar{X}_n)^2] = \\frac{\\sigma^2}{n} + \\mu^2 $$\n",
    "\n",
    "(c) $$ S^2 = \\frac{1}{n-1} \\sum_{i=1}^{n}(X_i - \\bar{X}_n)^2 $$\n",
    "\n",
    "(d) A consistent estimator is an estimator whose value converges to the value of the estimated parameter as the size of the sample grows arbitrarily large. In other words, for an estimator to be consistent, the probability that the estimator equals the parameter must converge to one when the sample size tends to infinity. $\\bar{X}_n$ is a consistent estimator of $\\mu$. To see this intuitively, we can recall that $Var(\\bar{X}_n) = \\frac{\\sigma^2}{n}$, so as $n \\rightarrow \\infty$ the probability distribution of $\\bar{X}_n$ (Gaussian) has arbitrarily small variance and tends to a single point at $\\bar{X}_n = \\mu$ with probability 1."
   ]
  },
  {
   "cell_type": "markdown",
   "metadata": {},
   "source": [
    "2. Suppose $X_{p \\times 1}$ is a vector of covariates, $\\beta_{p \\times 1}$ is a vector of unknown parameters, $\\epsilon$ is the unobserved random noise and we assume the linear model relationship $y = X^T \\beta + \\epsilon$. Suppose we have $n$ i.i.d. samples from this linear model, and the observed data can be written using the matrix form: $\\mathbf{y}_{n \\times 1} = \\mathbf{X}_{n\\times p} \\beta_{p \\times 1} + \\boldsymbol \\epsilon_{n \\times 1}$. \n",
    "\n",
    "    (a) If we want estimate the unknown $\\beta$ using a least square method, what is the objective function $L(\\beta)$ to obtain $\\widehat \\beta$?\n",
    "    \n",
    "    (b) What is the solution of $\\widehat \\beta$? Represent the solution using the observed data $\\mathbf{y}$ and $\\mathbf{X}_{n\\times p}$. Note that you may assume that $\\mathbf{X}^T \\mathbf{X}$ is invertible. "
   ]
  },
  {
   "cell_type": "markdown",
   "metadata": {},
   "source": [
    "**Answer**:\n",
    "\n",
    "(a) $L(\\beta) = \\sum_{i=1}^{n}(y_i - X_i^T \\beta)^2$ or in matrix form $L(\\beta) = (\\mathbf{y}_{n \\times 1} - \\mathbf{X}_{n\\times p} \\beta_{p \\times 1})^T (\\mathbf{y}_{n \\times 1} - \\mathbf{X}_{n\\times p} \\beta_{p \\times 1})$\n",
    "\n",
    "(b) $\\widehat \\beta = (\\mathbf{X}^T \\mathbf{X})^{-1}\\mathbf{X}^T \\mathbf{y}$  "
   ]
  },
  {
   "cell_type": "markdown",
   "metadata": {},
   "source": [
    "## Programming\n",
    "\n",
    "1. Use the following code to generate a set of observations $\\mathbf{y}$ and $\\mathbf{X}_{n\\times p}$. Following the previously established formula, Write your own code, instead of using existing functions such as `lm()`, to solve for the least square estimator $\\widehat \\beta$. If you are asked to add an intercept term $\\beta_0$ into your estimation (even the true $\\beta_0 = 0$ in our data generator), what should you do? \n",
    "\n",
    "```r\n",
    "  set.seed(1)\n",
    "  n = 100; p = 5\n",
    "  X = matrix(rnorm(n * p), n, p)\n",
    "  y = X %*% c(1, 0, 0, 1, -1) + rnorm(n)\n",
    "```"
   ]
  },
  {
   "cell_type": "code",
   "execution_count": 1,
   "metadata": {},
   "outputs": [],
   "source": [
    "# Python implementation for least squares minimization\n",
    "import numpy as np \n",
    "\n",
    "def least_squares(X, y):\n",
    "    '''\n",
    "    Returns optimal parameters for linear model using least squares optimization.\n",
    "    \n",
    "    Args:\n",
    "        X (np.ndarray): covariates (nxp)\n",
    "        y (np.ndarray): observed data (nx1)\n",
    "    Returns:\n",
    "        np.ndarray: linear fit parameters (px1)\n",
    "    '''\n",
    "    prod1 = np.matmul(X.T, X)\n",
    "    inverse = np.linalg.inv(prod1)\n",
    "    prod2 = np.matmul(X.T, y)\n",
    "    \n",
    "    return np.matmul(inverse, prod2)"
   ]
  },
  {
   "cell_type": "code",
   "execution_count": 2,
   "metadata": {},
   "outputs": [
    {
     "name": "stdout",
     "output_type": "stream",
     "text": [
      "[ 1.04593163  0.27957623  0.24446713  1.08330839 -0.79577408]\n"
     ]
    }
   ],
   "source": [
    "np.random.seed(1)\n",
    "n = 100\n",
    "p = 5\n",
    "X = np.random.rand(n, p) # Random matrix of numbers sampled from uniform distribution over [0, 1) of dimensions nxp\n",
    "y = np.matmul(X, np.asarray([1, 0, 0, 1, -1])) + np.random.rand(n)\n",
    "\n",
    "# Get parameters\n",
    "beta_hat = least_squares(X, y)\n",
    "print(beta_hat)"
   ]
  },
  {
   "cell_type": "markdown",
   "metadata": {},
   "source": [
    "In order to take $\\beta_0$ into account, I should insert an extra column of ones in my X matrix such that the $\\beta_0$ parameter is added in the expression."
   ]
  },
  {
   "cell_type": "code",
   "execution_count": 3,
   "metadata": {},
   "outputs": [],
   "source": [
    "# Python implementation for least squares minimization with intercept term\n",
    "\n",
    "def least_squares_constant_term(X, y):\n",
    "    '''\n",
    "    Returns optimal parameters for linear model using least squares optimization adding the beta naught term.\n",
    "    Note: The intercept term is the last one.\n",
    "    \n",
    "    Args:\n",
    "        X (np.ndarray): covariates (nxp)\n",
    "        y (np.ndarray): observed data (nx1)\n",
    "    Returns:\n",
    "        np.ndarray: linear fit parameters (px1)\n",
    "    '''\n",
    "    ones = np.ones((X.shape[0], 1))\n",
    "    X = np.append(X, ones, axis=1)\n",
    "    \n",
    "    prod1 = np.matmul(X.T, X)\n",
    "    inverse = np.linalg.inv(prod1)\n",
    "    prod2 = np.matmul(X.T, y)\n",
    "    \n",
    "    return np.matmul(inverse, prod2)"
   ]
  },
  {
   "cell_type": "code",
   "execution_count": 4,
   "metadata": {},
   "outputs": [
    {
     "name": "stdout",
     "output_type": "stream",
     "text": [
      "[ 0.89186666  0.06311393  0.09816809  0.91739109 -1.00825479  0.48634907]\n"
     ]
    }
   ],
   "source": [
    "np.random.seed(1)\n",
    "n = 100\n",
    "p = 5\n",
    "X = np.random.rand(n, p) # Random matrix of numbers sampled from uniform distribution over [0, 1) of dimensions nxp\n",
    "y = np.matmul(X, np.asarray([1, 0, 0, 1, -1])) + np.random.rand(n)\n",
    "\n",
    "# Get parameters\n",
    "beta_hat = least_squares_constant_term(X, y)\n",
    "print(beta_hat)"
   ]
  },
  {
   "cell_type": "markdown",
   "metadata": {},
   "source": [
    "2. Perform a simulation study to check the consistency of the sample mean estimator $\\bar{X}_n$. Please save your random seed so that the results can be replicated by others. \n",
    "\n",
    "    (a) Generate a set of $n = 20$ i.i.d. observations from uniform (0, 1) distribution and calculate the sample mean $\\bar{X}_n$\n",
    "    \n",
    "    (b) Repeat step (a) 1000 times to collect 1000 such sample means and plot them using a histogram.\n",
    "    \n",
    "    (c) How many of such sample means (out of 1000) are at least 0.1 away from true mean parameter, which is 0.5 for uniform (0, 1)?\n",
    "    \n",
    "    (d) Repeat steps (a) to (c) with $n = 100$ and $n = 500$. What conclusion can you make?"
   ]
  },
  {
   "cell_type": "code",
   "execution_count": 5,
   "metadata": {},
   "outputs": [],
   "source": [
    "import numpy as np\n",
    "from matplotlib import pyplot as plt\n",
    "\n",
    "np.random.seed(1)\n",
    "\n",
    "# Parts (a) and (b)\n",
    "def sample_n(n):\n",
    "    '''\n",
    "    Returns 1000 means sampled from n i.i.d. observations from uniform (0, 1) distribution.\n",
    "    '''\n",
    "    sample_means = np.empty(1000)\n",
    "    for i in range(1000):\n",
    "        obs = np.random.rand(n) # i.i.d. observations from uniform (0, 1) distribution\n",
    "        sample_means[i] = obs.mean()\n",
    "    return sample_means\n",
    "\n",
    "sample_20 = sample_n(20)"
   ]
  },
  {
   "cell_type": "code",
   "execution_count": 6,
   "metadata": {},
   "outputs": [
    {
     "data": {
      "image/png": "[encoded data removed]",
      "text/plain": [
       "<Figure size 748.8x514.8 with 1 Axes>"
      ]
     },
     "metadata": {
      "needs_background": "light"
     },
     "output_type": "display_data"
    }
   ],
   "source": [
    "plt.style.use('seaborn-talk')\n",
    "plt.hist(sample_20)\n",
    "plt.xlabel(\"Value\")\n",
    "plt.ylabel(\"Counts\")\n",
    "plt.xlim(0, 1)\n",
    "plt.show()"
   ]
  },
  {
   "cell_type": "code",
   "execution_count": 7,
   "metadata": {},
   "outputs": [
    {
     "name": "stdout",
     "output_type": "stream",
     "text": [
      "120\n"
     ]
    }
   ],
   "source": [
    "# Part (c)\n",
    "\n",
    "def test_dist(sample_means):\n",
    "    '''\n",
    "    Returns number of means that are at least 0.1 from true distribution mean (0.5).\n",
    "    '''\n",
    "    test = np.abs(sample_means - 0.5) >= 0.1\n",
    "    return np.count_nonzero(test)\n",
    "\n",
    "count = test_dist(sample_20)\n",
    "print(count)"
   ]
  },
  {
   "cell_type": "markdown",
   "metadata": {},
   "source": [
    "There are 120 samples at a distance of at least 0.1 from the mean."
   ]
  },
  {
   "cell_type": "code",
   "execution_count": 8,
   "metadata": {},
   "outputs": [
    {
     "data": {
      "image/png": "[encoded data removed]",
      "text/plain": [
       "<Figure size 748.8x514.8 with 1 Axes>"
      ]
     },
     "metadata": {
      "needs_background": "light"
     },
     "output_type": "display_data"
    }
   ],
   "source": [
    "# Part (d)\n",
    "# n = 100\n",
    "np.random.seed(1)\n",
    "sample_100 = sample_n(100)\n",
    "\n",
    "plt.style.use('seaborn-talk')\n",
    "plt.hist(sample_100)\n",
    "plt.xlabel(\"Value\")\n",
    "plt.ylabel(\"Counts\")\n",
    "plt.xlim(0, 1)\n",
    "plt.show()"
   ]
  },
  {
   "cell_type": "code",
   "execution_count": 10,
   "metadata": {},
   "outputs": [
    {
     "name": "stdout",
     "output_type": "stream",
     "text": [
      "2\n"
     ]
    }
   ],
   "source": [
    "count = test_dist(sample_100)\n",
    "print(count)"
   ]
  },
  {
   "cell_type": "markdown",
   "metadata": {},
   "source": [
    "There are 2 samples at a distance of at least 0.1 from the true mean."
   ]
  },
  {
   "cell_type": "code",
   "execution_count": 9,
   "metadata": {},
   "outputs": [
    {
     "data": {
      "image/png": "[encoded data removed]",
      "text/plain": [
       "<Figure size 748.8x514.8 with 1 Axes>"
      ]
     },
     "metadata": {
      "needs_background": "light"
     },
     "output_type": "display_data"
    }
   ],
   "source": [
    "# n = 500\n",
    "np.random.seed(1)\n",
    "sample_500 = sample_n(500)\n",
    "\n",
    "plt.style.use('seaborn-talk')\n",
    "plt.hist(sample_100)\n",
    "plt.xlabel(\"Value\")\n",
    "plt.ylabel(\"Counts\")\n",
    "plt.xlim(0, 1)\n",
    "plt.show()"
   ]
  },
  {
   "cell_type": "code",
   "execution_count": 11,
   "metadata": {},
   "outputs": [
    {
     "name": "stdout",
     "output_type": "stream",
     "text": [
      "0\n"
     ]
    }
   ],
   "source": [
    "count = test_dist(sample_500)\n",
    "print(count)"
   ]
  },
  {
   "cell_type": "markdown",
   "metadata": {},
   "source": [
    "There are no samples at a distance of at least 0.1 from the true mean."
   ]
  },
  {
   "cell_type": "markdown",
   "metadata": {},
   "source": [
    "We can conclude that the estimator is unbiased (the value of the true mean is accurate) and consistent (increasing the size of the sample reduces the error)."
   ]
  }
 ],
 "metadata": {
  "kernelspec": {
   "display_name": "Python 3",
   "language": "python",
   "name": "python3"
  },
  "language_info": {
   "codemirror_mode": {
    "name": "ipython",
    "version": 3
   },
   "file_extension": ".py",
   "mimetype": "text/x-python",
   "name": "python",
   "nbconvert_exporter": "python",
   "pygments_lexer": "ipython3",
   "version": "3.7.6"
  }
 },
 "nbformat": 4,
 "nbformat_minor": 4
}
