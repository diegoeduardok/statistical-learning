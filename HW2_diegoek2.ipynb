{
 "cells": [
  {
   "cell_type": "markdown",
   "metadata": {},
   "source": [
    "# STATS 542: Homework 2"
   ]
  },
  {
   "cell_type": "markdown",
   "metadata": {},
   "source": [
    "<h4><center> Diego Kleiman (diegoek2) </center></h4>\n",
    "<h4><center> Due: Monday 11:59 PM CT, Feb 16th </center></h4>"
   ]
  },
  {
   "cell_type": "markdown",
   "metadata": {},
   "source": [
    "## About HW2\n",
    "\n",
    "For this HW, we mainly try to understand the KNN method in both classification and regression settings and use it to perform several real data examples. Tuning the model will help us understand the bias-variance trade-off. A slightly more challenging task is to code a KNN method yourself. For that question, you cannot use any additional package to assist the calculation. \n",
    "\n",
    "There is an important package, `ElemStatLearn`, which is the package associated with the ESL textbook for this course. Unfortunately the package is currently discontinued on CRAN. You can install an earlier version of this package by using \n",
    "\n",
    "```r\n",
    "  require(devtools)\n",
    "  install_version(\"ElemStatLearn\", version = \"2015.6.26.2\", repos = \"http://cran.us.r-project.org\")\n",
    "```\n",
    "And of course you will have to install the `devtools` package if you don't already have it. "
   ]
  },
  {
   "cell_type": "code",
   "execution_count": 1,
   "metadata": {},
   "outputs": [],
   "source": [
    "# Random seed to be used throughout the HW (the seed must be supplied for every function call involving a RNG)\n",
    "seed = 1"
   ]
  },
  {
   "cell_type": "markdown",
   "metadata": {},
   "source": [
    "## Question 1 [20 Points] KNN Classification (Diabetes)\n",
    "\n",
    "Load the Pima Indians Diabetes Database (`PimaIndiansDiabetes`) from the `mlbench` package. If you don't already have this package installed, use the following code. It also randomly split the data into training and testing. You should preserve this split in the analysis. \n",
    "\n",
    "```r\n",
    "  # install.packages(\"mlbench\") # run this line if you don't have the package\n",
    "  library(mlbench)\n",
    "  data(PimaIndiansDiabetes)\n",
    "\n",
    "  set.seed(2)\n",
    "  trainid = sample(1:nrow(PimaIndiansDiabetes), nrow(PimaIndiansDiabetes)/2)\n",
    "  Diab.train = PimaIndiansDiabetes[trainid, ]\n",
    "  Diab.test = PimaIndiansDiabetes[-trainid, ]\n",
    "```\n",
    "\n",
    "Read the documentation of this dataset [here](https://cran.r-project.org/web/packages/mlbench/mlbench.pdf) and make sure that you understand the goal of this classification problem. \n",
    "\n",
    "Use a grid of $k$ values (every integer) from 1 to 20. Fit the KNN model using `Diab.train` and calculate both training and testing errors. For the testing error, use `Diab.test`. Plot the two errors against the corresponding $k$ values. Make sure that you differentiate them using different colors/shapes and add proper legends. Does the plot match (approximately) our intuition of the bias-variance trade-off in terms of having an U-shaped error? What is the optimal $k$ value based on this result?"
   ]
  },
  {
   "cell_type": "code",
   "execution_count": 2,
   "metadata": {},
   "outputs": [],
   "source": [
    "# Get data and split into training and testing set\n",
    "import numpy as np\n",
    "import pandas as pd\n",
    "from sklearn.model_selection import train_test_split\n",
    "\n",
    "np.random.seed(seed)\n",
    "\n",
    "# Since I'm using Python I sourced the data from: https://www.kaggle.com/uciml/pima-indians-diabetes-database (the source is UCI, same as for the R package)\n",
    "data = pd.read_csv('diabetes.csv')\n",
    "X_train, X_test, y_train, y_test = train_test_split(data.drop('Outcome', axis=1), \n",
    "                                                    data.Outcome, \n",
    "                                                    test_size=0.5, \n",
    "                                                    train_size=0.5, \n",
    "                                                    random_state=seed\n",
    "                                                   )"
   ]
  },
  {
   "cell_type": "code",
   "execution_count": 3,
   "metadata": {},
   "outputs": [
    {
     "data": {
      "text/html": [
       "<div>\n",
       "<style scoped>\n",
       "    .dataframe tbody tr th:only-of-type {\n",
       "        vertical-align: middle;\n",
       "    }\n",
       "\n",
       "    .dataframe tbody tr th {\n",
       "        vertical-align: top;\n",
       "    }\n",
       "\n",
       "    .dataframe thead th {\n",
       "        text-align: right;\n",
       "    }\n",
       "</style>\n",
       "<table border=\"1\" class=\"dataframe\">\n",
       "  <thead>\n",
       "    <tr style=\"text-align: right;\">\n",
       "      <th></th>\n",
       "      <th>Pregnancies</th>\n",
       "      <th>Glucose</th>\n",
       "      <th>BloodPressure</th>\n",
       "      <th>SkinThickness</th>\n",
       "      <th>Insulin</th>\n",
       "      <th>BMI</th>\n",
       "      <th>DiabetesPedigreeFunction</th>\n",
       "      <th>Age</th>\n",
       "    </tr>\n",
       "  </thead>\n",
       "  <tbody>\n",
       "    <tr>\n",
       "      <th>555</th>\n",
       "      <td>7</td>\n",
       "      <td>124</td>\n",
       "      <td>70</td>\n",
       "      <td>33</td>\n",
       "      <td>215</td>\n",
       "      <td>25.5</td>\n",
       "      <td>0.161</td>\n",
       "      <td>37</td>\n",
       "    </tr>\n",
       "    <tr>\n",
       "      <th>142</th>\n",
       "      <td>2</td>\n",
       "      <td>108</td>\n",
       "      <td>52</td>\n",
       "      <td>26</td>\n",
       "      <td>63</td>\n",
       "      <td>32.5</td>\n",
       "      <td>0.318</td>\n",
       "      <td>22</td>\n",
       "    </tr>\n",
       "    <tr>\n",
       "      <th>618</th>\n",
       "      <td>9</td>\n",
       "      <td>112</td>\n",
       "      <td>82</td>\n",
       "      <td>24</td>\n",
       "      <td>0</td>\n",
       "      <td>28.2</td>\n",
       "      <td>1.282</td>\n",
       "      <td>50</td>\n",
       "    </tr>\n",
       "    <tr>\n",
       "      <th>6</th>\n",
       "      <td>3</td>\n",
       "      <td>78</td>\n",
       "      <td>50</td>\n",
       "      <td>32</td>\n",
       "      <td>88</td>\n",
       "      <td>31.0</td>\n",
       "      <td>0.248</td>\n",
       "      <td>26</td>\n",
       "    </tr>\n",
       "    <tr>\n",
       "      <th>267</th>\n",
       "      <td>2</td>\n",
       "      <td>128</td>\n",
       "      <td>64</td>\n",
       "      <td>42</td>\n",
       "      <td>0</td>\n",
       "      <td>40.0</td>\n",
       "      <td>1.101</td>\n",
       "      <td>24</td>\n",
       "    </tr>\n",
       "    <tr>\n",
       "      <th>...</th>\n",
       "      <td>...</td>\n",
       "      <td>...</td>\n",
       "      <td>...</td>\n",
       "      <td>...</td>\n",
       "      <td>...</td>\n",
       "      <td>...</td>\n",
       "      <td>...</td>\n",
       "      <td>...</td>\n",
       "    </tr>\n",
       "    <tr>\n",
       "      <th>645</th>\n",
       "      <td>2</td>\n",
       "      <td>157</td>\n",
       "      <td>74</td>\n",
       "      <td>35</td>\n",
       "      <td>440</td>\n",
       "      <td>39.4</td>\n",
       "      <td>0.134</td>\n",
       "      <td>30</td>\n",
       "    </tr>\n",
       "    <tr>\n",
       "      <th>715</th>\n",
       "      <td>7</td>\n",
       "      <td>187</td>\n",
       "      <td>50</td>\n",
       "      <td>33</td>\n",
       "      <td>392</td>\n",
       "      <td>33.9</td>\n",
       "      <td>0.826</td>\n",
       "      <td>34</td>\n",
       "    </tr>\n",
       "    <tr>\n",
       "      <th>72</th>\n",
       "      <td>13</td>\n",
       "      <td>126</td>\n",
       "      <td>90</td>\n",
       "      <td>0</td>\n",
       "      <td>0</td>\n",
       "      <td>43.4</td>\n",
       "      <td>0.583</td>\n",
       "      <td>42</td>\n",
       "    </tr>\n",
       "    <tr>\n",
       "      <th>235</th>\n",
       "      <td>4</td>\n",
       "      <td>171</td>\n",
       "      <td>72</td>\n",
       "      <td>0</td>\n",
       "      <td>0</td>\n",
       "      <td>43.6</td>\n",
       "      <td>0.479</td>\n",
       "      <td>26</td>\n",
       "    </tr>\n",
       "    <tr>\n",
       "      <th>37</th>\n",
       "      <td>9</td>\n",
       "      <td>102</td>\n",
       "      <td>76</td>\n",
       "      <td>37</td>\n",
       "      <td>0</td>\n",
       "      <td>32.9</td>\n",
       "      <td>0.665</td>\n",
       "      <td>46</td>\n",
       "    </tr>\n",
       "  </tbody>\n",
       "</table>\n",
       "<p>384 rows × 8 columns</p>\n",
       "</div>"
      ],
      "text/plain": [
       "     Pregnancies  Glucose  BloodPressure  SkinThickness  Insulin   BMI  \\\n",
       "555            7      124             70             33      215  25.5   \n",
       "142            2      108             52             26       63  32.5   \n",
       "618            9      112             82             24        0  28.2   \n",
       "6              3       78             50             32       88  31.0   \n",
       "267            2      128             64             42        0  40.0   \n",
       "..           ...      ...            ...            ...      ...   ...   \n",
       "645            2      157             74             35      440  39.4   \n",
       "715            7      187             50             33      392  33.9   \n",
       "72            13      126             90              0        0  43.4   \n",
       "235            4      171             72              0        0  43.6   \n",
       "37             9      102             76             37        0  32.9   \n",
       "\n",
       "     DiabetesPedigreeFunction  Age  \n",
       "555                     0.161   37  \n",
       "142                     0.318   22  \n",
       "618                     1.282   50  \n",
       "6                       0.248   26  \n",
       "267                     1.101   24  \n",
       "..                        ...  ...  \n",
       "645                     0.134   30  \n",
       "715                     0.826   34  \n",
       "72                      0.583   42  \n",
       "235                     0.479   26  \n",
       "37                      0.665   46  \n",
       "\n",
       "[384 rows x 8 columns]"
      ]
     },
     "execution_count": 3,
     "metadata": {},
     "output_type": "execute_result"
    }
   ],
   "source": [
    "# Check that data was split as desired\n",
    "X_train"
   ]
  },
  {
   "cell_type": "code",
   "execution_count": 4,
   "metadata": {},
   "outputs": [
    {
     "data": {
      "text/plain": [
       "555    0\n",
       "142    0\n",
       "618    1\n",
       "6      1\n",
       "267    0\n",
       "      ..\n",
       "645    0\n",
       "715    1\n",
       "72     1\n",
       "235    1\n",
       "37     1\n",
       "Name: Outcome, Length: 384, dtype: int64"
      ]
     },
     "execution_count": 4,
     "metadata": {},
     "output_type": "execute_result"
    }
   ],
   "source": [
    "y_train"
   ]
  },
  {
   "cell_type": "code",
   "execution_count": 5,
   "metadata": {},
   "outputs": [
    {
     "data": {
      "text/html": [
       "<div>\n",
       "<style scoped>\n",
       "    .dataframe tbody tr th:only-of-type {\n",
       "        vertical-align: middle;\n",
       "    }\n",
       "\n",
       "    .dataframe tbody tr th {\n",
       "        vertical-align: top;\n",
       "    }\n",
       "\n",
       "    .dataframe thead th {\n",
       "        text-align: right;\n",
       "    }\n",
       "</style>\n",
       "<table border=\"1\" class=\"dataframe\">\n",
       "  <thead>\n",
       "    <tr style=\"text-align: right;\">\n",
       "      <th></th>\n",
       "      <th>Pregnancies</th>\n",
       "      <th>Glucose</th>\n",
       "      <th>BloodPressure</th>\n",
       "      <th>SkinThickness</th>\n",
       "      <th>Insulin</th>\n",
       "      <th>BMI</th>\n",
       "      <th>DiabetesPedigreeFunction</th>\n",
       "      <th>Age</th>\n",
       "    </tr>\n",
       "  </thead>\n",
       "  <tbody>\n",
       "    <tr>\n",
       "      <th>285</th>\n",
       "      <td>7</td>\n",
       "      <td>136</td>\n",
       "      <td>74</td>\n",
       "      <td>26</td>\n",
       "      <td>135</td>\n",
       "      <td>26.0</td>\n",
       "      <td>0.647</td>\n",
       "      <td>51</td>\n",
       "    </tr>\n",
       "    <tr>\n",
       "      <th>101</th>\n",
       "      <td>1</td>\n",
       "      <td>151</td>\n",
       "      <td>60</td>\n",
       "      <td>0</td>\n",
       "      <td>0</td>\n",
       "      <td>26.1</td>\n",
       "      <td>0.179</td>\n",
       "      <td>22</td>\n",
       "    </tr>\n",
       "    <tr>\n",
       "      <th>581</th>\n",
       "      <td>6</td>\n",
       "      <td>109</td>\n",
       "      <td>60</td>\n",
       "      <td>27</td>\n",
       "      <td>0</td>\n",
       "      <td>25.0</td>\n",
       "      <td>0.206</td>\n",
       "      <td>27</td>\n",
       "    </tr>\n",
       "    <tr>\n",
       "      <th>352</th>\n",
       "      <td>3</td>\n",
       "      <td>61</td>\n",
       "      <td>82</td>\n",
       "      <td>28</td>\n",
       "      <td>0</td>\n",
       "      <td>34.4</td>\n",
       "      <td>0.243</td>\n",
       "      <td>46</td>\n",
       "    </tr>\n",
       "    <tr>\n",
       "      <th>726</th>\n",
       "      <td>1</td>\n",
       "      <td>116</td>\n",
       "      <td>78</td>\n",
       "      <td>29</td>\n",
       "      <td>180</td>\n",
       "      <td>36.1</td>\n",
       "      <td>0.496</td>\n",
       "      <td>25</td>\n",
       "    </tr>\n",
       "    <tr>\n",
       "      <th>...</th>\n",
       "      <td>...</td>\n",
       "      <td>...</td>\n",
       "      <td>...</td>\n",
       "      <td>...</td>\n",
       "      <td>...</td>\n",
       "      <td>...</td>\n",
       "      <td>...</td>\n",
       "      <td>...</td>\n",
       "    </tr>\n",
       "    <tr>\n",
       "      <th>574</th>\n",
       "      <td>1</td>\n",
       "      <td>143</td>\n",
       "      <td>86</td>\n",
       "      <td>30</td>\n",
       "      <td>330</td>\n",
       "      <td>30.1</td>\n",
       "      <td>0.892</td>\n",
       "      <td>23</td>\n",
       "    </tr>\n",
       "    <tr>\n",
       "      <th>379</th>\n",
       "      <td>0</td>\n",
       "      <td>93</td>\n",
       "      <td>100</td>\n",
       "      <td>39</td>\n",
       "      <td>72</td>\n",
       "      <td>43.4</td>\n",
       "      <td>1.021</td>\n",
       "      <td>35</td>\n",
       "    </tr>\n",
       "    <tr>\n",
       "      <th>191</th>\n",
       "      <td>9</td>\n",
       "      <td>123</td>\n",
       "      <td>70</td>\n",
       "      <td>44</td>\n",
       "      <td>94</td>\n",
       "      <td>33.1</td>\n",
       "      <td>0.374</td>\n",
       "      <td>40</td>\n",
       "    </tr>\n",
       "    <tr>\n",
       "      <th>414</th>\n",
       "      <td>0</td>\n",
       "      <td>138</td>\n",
       "      <td>60</td>\n",
       "      <td>35</td>\n",
       "      <td>167</td>\n",
       "      <td>34.6</td>\n",
       "      <td>0.534</td>\n",
       "      <td>21</td>\n",
       "    </tr>\n",
       "    <tr>\n",
       "      <th>343</th>\n",
       "      <td>5</td>\n",
       "      <td>122</td>\n",
       "      <td>86</td>\n",
       "      <td>0</td>\n",
       "      <td>0</td>\n",
       "      <td>34.7</td>\n",
       "      <td>0.290</td>\n",
       "      <td>33</td>\n",
       "    </tr>\n",
       "  </tbody>\n",
       "</table>\n",
       "<p>384 rows × 8 columns</p>\n",
       "</div>"
      ],
      "text/plain": [
       "     Pregnancies  Glucose  BloodPressure  SkinThickness  Insulin   BMI  \\\n",
       "285            7      136             74             26      135  26.0   \n",
       "101            1      151             60              0        0  26.1   \n",
       "581            6      109             60             27        0  25.0   \n",
       "352            3       61             82             28        0  34.4   \n",
       "726            1      116             78             29      180  36.1   \n",
       "..           ...      ...            ...            ...      ...   ...   \n",
       "574            1      143             86             30      330  30.1   \n",
       "379            0       93            100             39       72  43.4   \n",
       "191            9      123             70             44       94  33.1   \n",
       "414            0      138             60             35      167  34.6   \n",
       "343            5      122             86              0        0  34.7   \n",
       "\n",
       "     DiabetesPedigreeFunction  Age  \n",
       "285                     0.647   51  \n",
       "101                     0.179   22  \n",
       "581                     0.206   27  \n",
       "352                     0.243   46  \n",
       "726                     0.496   25  \n",
       "..                        ...  ...  \n",
       "574                     0.892   23  \n",
       "379                     1.021   35  \n",
       "191                     0.374   40  \n",
       "414                     0.534   21  \n",
       "343                     0.290   33  \n",
       "\n",
       "[384 rows x 8 columns]"
      ]
     },
     "execution_count": 5,
     "metadata": {},
     "output_type": "execute_result"
    }
   ],
   "source": [
    "X_test"
   ]
  },
  {
   "cell_type": "code",
   "execution_count": 6,
   "metadata": {},
   "outputs": [
    {
     "data": {
      "text/plain": [
       "285    0\n",
       "101    0\n",
       "581    0\n",
       "352    0\n",
       "726    0\n",
       "      ..\n",
       "574    0\n",
       "379    0\n",
       "191    0\n",
       "414    1\n",
       "343    0\n",
       "Name: Outcome, Length: 384, dtype: int64"
      ]
     },
     "execution_count": 6,
     "metadata": {},
     "output_type": "execute_result"
    }
   ],
   "source": [
    "y_test"
   ]
  },
  {
   "cell_type": "code",
   "execution_count": 7,
   "metadata": {},
   "outputs": [],
   "source": [
    "from sklearn.neighbors import KNeighborsClassifier\n",
    "\n",
    "train_errors = []\n",
    "test_errors = []\n",
    "k_values = np.arange(1, 21) # k from 1 to 20\n",
    "\n",
    "for i in k_values:\n",
    "    knn_model = KNeighborsClassifier(n_neighbors=i).fit(X_train, y_train)\n",
    "    predictions_train = knn_model.predict(X_train)\n",
    "    predictions_test = knn_model.predict(X_test)\n",
    "    train_error = np.mean(np.square(y_train-predictions_train))\n",
    "    test_error = np.mean(np.square(y_test-predictions_test))\n",
    "    train_errors.append(train_error)\n",
    "    test_errors.append(test_error)\n",
    "\n",
    "train_errors = np.asarray(train_errors)\n",
    "test_errors = np.asarray(test_errors)"
   ]
  },
  {
   "cell_type": "code",
   "execution_count": 8,
   "metadata": {},
   "outputs": [
    {
     "data": {
      "image/png": "[encoded data removed]",
      "text/plain": [
       "<Figure size 748.8x514.8 with 1 Axes>"
      ]
     },
     "metadata": {
      "needs_background": "light"
     },
     "output_type": "display_data"
    }
   ],
   "source": [
    "from matplotlib import pyplot as plt\n",
    "plt.style.use('seaborn-talk')\n",
    "\n",
    "plt.plot(k_values, train_errors, \"o-\")\n",
    "plt.plot(k_values, test_errors, \"^-\")\n",
    "plt.xticks(k_values)\n",
    "plt.xlim(0, 21)\n",
    "plt.xlabel(\"Number of $k$ neighbors\")\n",
    "plt.ylabel(\"Error = $E[(Y-f\\hat(X))^2]$\")\n",
    "plt.legend([\"Training error\", \"Test error\"])\n",
    "plt.show()"
   ]
  },
  {
   "cell_type": "markdown",
   "metadata": {},
   "source": [
    "Note: the training error for $k=1$ is $0$.\n",
    "\n",
    "Does the plot match (approximately) our intuition of the bias-variance trade-off in terms of having an U-shaped error?\n",
    "\n",
    "**Answer**: Yes, it does. We expect that the bias will be low and the variance will be high for lower numbers of $k$. We can see this because the model overfits the training data but scores very poorly on the test set for those values. As we increase $k$, the number of degrees of freedom decreases, which yields a lower variance but a higher bias. We can observe sort of a U-shape in the test error (because the minimum is in the middle). This curves shows that the variance does not improve for $k > 13$."
   ]
  },
  {
   "cell_type": "markdown",
   "metadata": {},
   "source": [
    "What is the optimal $k$ value based on this result?\n",
    "\n",
    "**Answer**: The optimal value for $k$, according to my computation, is 13 because at this point the test error is the minimum."
   ]
  },
  {
   "cell_type": "code",
   "execution_count": 9,
   "metadata": {},
   "outputs": [
    {
     "data": {
      "text/plain": [
       "13"
      ]
     },
     "execution_count": 9,
     "metadata": {},
     "output_type": "execute_result"
    }
   ],
   "source": [
    "k_values[test_errors.argmin()] # This is to check which k value gives the smallest test error"
   ]
  },
  {
   "cell_type": "markdown",
   "metadata": {},
   "source": [
    "## Question 2 [20 Points] KNN Classification (Handwritten Digit)\n",
    "\n",
    "Load the Handwritten Digit Data (`zip.train` and `zip.test`) from the `ElemStatLearn` package. Use a grid of $k$ values (every integer) from 1 to 20. And we need to select the best tuning using the `caret` package. To perform this automatic tuning, you need to \n",
    "\n",
    "  * Specify the type of cross-validation using the `trainControl()` function. We need to use 3 fold cross-validation.\n",
    "  * Specify a grid of tuning parameters. This can be done using `expand.grid(k = c(1:20))`\n",
    "  * Train the cross-validation using the `train()` function\n",
    "\n",
    "For details, read the documentation at [here](https://topepo.github.io/caret/model-training-and-tuning.html) to learn how to use the `trainControl()` and `train()` functions. Some examples can also be found at [here](https://cran.r-project.org/web/packages/caret/caret.pdf). Apply the function to the `zip.train` data with our choice of $k$ grid. \n",
    "\n",
    "Fit the KNN model using **a randomly selected subset of `zip.train`, with size 500** as the training data and calculate both training and testing errors. Make sure to set random seed so that your result can be replicated. Plot the two errors against the corresponding $k$ values. Make sure that you differentiate them using different colors/shapes and add proper legends. What is the optimal $k$ value? Does the plot match our intuition of the bias-variance trade-off in terms of having an U-shaped error? If not, which theoretical result we introduced in the lecture can be used to explain it? Provide your explanation of the results. "
   ]
  },
  {
   "cell_type": "markdown",
   "metadata": {},
   "source": [
    "**Notes about adapting this exercise for Python:**\n",
    "- I will use the package [rpy2](https://rpy2.github.io/doc/latest/html/index.html) to convert the datasets `zip.train` and `zip.test` to numpy format\n",
    "- I will use the [sklearn.model_selection](https://scikit-learn.org/stable/model_selection.html) package for tuning parameters"
   ]
  },
  {
   "cell_type": "code",
   "execution_count": 10,
   "metadata": {},
   "outputs": [],
   "source": [
    "import os\n",
    "os.environ['R_HOME'] = \"/Users/diegoeduardo/opt/anaconda3/envs/R/lib/R\""
   ]
  },
  {
   "cell_type": "code",
   "execution_count": 11,
   "metadata": {},
   "outputs": [],
   "source": [
    "import rpy2.robjects as robjects\n",
    "\n",
    "# Load datasets\n",
    "robjects.r['load']('zip.train.RData')\n",
    "robjects.r['load']('zip.test.RData')\n",
    "\n",
    "# Retrieve datsets as Python objects\n",
    "zip_train = robjects.r['zip.train']\n",
    "zip_test = robjects.r['zip.test']\n",
    "\n",
    "# Convert to numpy.ndarray\n",
    "zip_train = np.array(zip_train)\n",
    "zip_test = np.array(zip_test)"
   ]
  },
  {
   "cell_type": "code",
   "execution_count": 12,
   "metadata": {},
   "outputs": [],
   "source": [
    "# Instantiate cross-validator and parameter search \n",
    "\n",
    "from sklearn.neighbors import KNeighborsClassifier\n",
    "from sklearn.model_selection import KFold\n",
    "from sklearn.model_selection import GridSearchCV\n",
    "\n",
    "kfold = KFold(n_splits=3) \n",
    "k_values = {'n_neighbors': np.arange(1, 21)}\n",
    "searcher = GridSearchCV(estimator=KNeighborsClassifier(), \n",
    "                        param_grid=k_values, \n",
    "                        scoring='neg_mean_squared_error', # negated mean squared error\n",
    "                        cv=kfold,\n",
    "                        return_train_score=True\n",
    "                       )"
   ]
  },
  {
   "cell_type": "code",
   "execution_count": 13,
   "metadata": {},
   "outputs": [],
   "source": [
    "# Shuffle train data and sample 500 random datapoints \n",
    "\n",
    "np.random.seed(seed)\n",
    "\n",
    "zip_train_shuffled = zip_train \n",
    "np.random.shuffle(zip_train_shuffled) # Shuffle in place\n",
    "zip_train_shuffled = zip_train_shuffled[:500] # Take 500 (random) samples\n",
    "X_train, y_train = zip_train_shuffled[:, 1:], zip_train_shuffled[:, 0]\n",
    "\n",
    "# Reshape test data\n",
    "X_test, y_test = zip_test[:, 1:], zip_test[:, 0]"
   ]
  },
  {
   "cell_type": "code",
   "execution_count": 14,
   "metadata": {},
   "outputs": [
    {
     "data": {
      "text/plain": [
       "GridSearchCV(cv=KFold(n_splits=3, random_state=None, shuffle=False),\n",
       "             estimator=KNeighborsClassifier(),\n",
       "             param_grid={'n_neighbors': array([ 1,  2,  3,  4,  5,  6,  7,  8,  9, 10, 11, 12, 13, 14, 15, 16, 17,\n",
       "       18, 19, 20])},\n",
       "             return_train_score=True, scoring='neg_mean_squared_error')"
      ]
     },
     "execution_count": 14,
     "metadata": {},
     "output_type": "execute_result"
    }
   ],
   "source": [
    "searcher.fit(X_train, y=y_train)"
   ]
  },
  {
   "cell_type": "code",
   "execution_count": 15,
   "metadata": {},
   "outputs": [],
   "source": [
    "train_error = -searcher.cv_results_['mean_train_score'] \n",
    "validation_error = -searcher.cv_results_['mean_test_score'] # Note: this is the error from the 3-fold cross-validation"
   ]
  },
  {
   "cell_type": "code",
   "execution_count": 16,
   "metadata": {},
   "outputs": [],
   "source": [
    "# Compute test error \n",
    "test_error = []\n",
    "\n",
    "# Here I score the model against the test data for each k value \n",
    "# To get the appropriate models, I have to fit the model again using 3-fold cross-validation but providing only one value of k for the grid search so that I get each model (otherwise GridSearchCV only returns the best model) \n",
    "for i in np.arange(1, 21):\n",
    "    k_values_temp = {'n_neighbors': [i]}\n",
    "    searcher = GridSearchCV(estimator=KNeighborsClassifier(), \n",
    "                            param_grid=k_values_temp, \n",
    "                            scoring='neg_mean_squared_error', # negated mean squared error\n",
    "                            cv=kfold,\n",
    "                            return_train_score=False # no need to compute training score again\n",
    "                           ) \n",
    "    searcher.fit(X_train, y=y_train)\n",
    "    test_error.append(-searcher.score(X_test, y=y_test))\n",
    "\n",
    "test_error = np.asarray(test_error)"
   ]
  },
  {
   "cell_type": "code",
   "execution_count": 17,
   "metadata": {},
   "outputs": [
    {
     "data": {
      "image/png": "[encoded data removed]",
      "text/plain": [
       "<Figure size 748.8x514.8 with 1 Axes>"
      ]
     },
     "metadata": {
      "needs_background": "light"
     },
     "output_type": "display_data"
    }
   ],
   "source": [
    "x = np.arange(1, 21)\n",
    "plt.plot(x, train_error, \"o-\")\n",
    "plt.plot(x, validation_error, \"s-\")\n",
    "plt.plot(x, test_error, \"^-\")\n",
    "plt.xticks(x)\n",
    "plt.xlabel(\"Number of $k$ neighbors\")\n",
    "plt.ylabel(\"Error = $E[(Y-f\\hat(X))^2]$\")\n",
    "plt.legend([\"Training error\", \"Validation error\", \"Test error\"])\n",
    "\n",
    "plt.show()\n",
    "plt.close()"
   ]
  },
  {
   "cell_type": "markdown",
   "metadata": {},
   "source": [
    "What is the optimal $k$ value?\n",
    "\n",
    "**Answer**: According to our cross-validation scheme, $k=1$ is the optimal value (see validation error). The testing error verifies that our best model also has the best performance on the testing set. Accordingly, we would conclude that $k=1$ is the correct answer."
   ]
  },
  {
   "cell_type": "markdown",
   "metadata": {},
   "source": [
    "Does the plot match our intuition of the bias-variance trade-off in terms of having an U-shaped error?\n",
    "\n",
    "**Answer**: No. We do not see an U-shaped curve in the validation and test errors. The shape we observe arises from the fact that bias is low for small values of $k$, and there is no much variance in the dataset. Therefore, we find that $k=1$ is the optimal value because it minimizes the bias. In other words, we see that errors increase as we increase $k$ due to the bias that we introduce as we use more and more neighbors without the benefit of a decrease in the variance."
   ]
  },
  {
   "cell_type": "markdown",
   "metadata": {},
   "source": [
    "If not, which theoretical result we introduced in the lecture can be used to explain it?\n",
    "\n",
    "**Answer**: In the curves for validation and testing error, we can see that small values of $k$ achieve the smallest errors in this bias-variance tradeoff example. This is due to the fact that the dataset probably exists in some lower dimensional manifold because the samples that belong to the same group are clustered together. Consequently, the dataset can be efficiently classified by a model with low inherent bias (KNN classifier with small $k$), given that the variance is not a significant source of error."
   ]
  },
  {
   "cell_type": "markdown",
   "metadata": {},
   "source": [
    "## Question 3 [40 Points] Write your own KNN for regression\n",
    "\n",
    "For this question, you __cannot__ use (load) any additional `R` package. Complete the following steps. \n",
    "\n",
    "a. [25 points] Generate the covariate of $n = 1000$ training data, with $p=5$ from independent standard Normal distribution. Then, generate $Y$ from \n",
    "  $$ Y = X_1 + 0.5 \\times X_2 - X_3 + \\epsilon,$$\n",
    "  with i.i.d. standard normal error $\\epsilon$. Write a function `myknn(xtest, xtrain, ytrain, k)` that fits a KNN model and predict multiple target points `xtest`. Here `xtrain` is the training dataset covariate value, `ytrain` is the training data outcome, and `k` is the number of nearest neighbors. Use the euclidean distance to evaluate the closeness between two points.\n",
    "\n",
    "Test your code using the first 500 observations as the training data and the rest as testing data. Predict the $Y$ values using your KNN function with `k = 5`. Evaluate the prediction accuracy using mean squared error\n",
    "$$\\frac{1}{N}\\sum_i (y_i - \\widehat y_i)^2$$\n",
    "\n",
    "b. [15 Points] Consider $k$ being all integers from 1 to 10. Use the degrees of freedom as the horizontal axis. Demonstrate your results in a single, easily interpretable figure with proper legends. What is your optimal tuning parameter and the associated degrees of freedom?"
   ]
  },
  {
   "cell_type": "markdown",
   "metadata": {},
   "source": [
    "**Notes about adapting this exercise for Python:**\n",
    "- I will use the package numpy because, unlike R, Python does not offer native support for matrices and matrix operations"
   ]
  },
  {
   "cell_type": "code",
   "execution_count": 18,
   "metadata": {},
   "outputs": [],
   "source": [
    "import numpy as np\n",
    "\n",
    "np.random.seed(seed)\n",
    "\n",
    "# Generate data\n",
    "X = np.random.normal(0, 1, (1000, 5))\n",
    "A = np.asarray([1, 0.5, -1])\n",
    "y = np.matmul(X[:,:3], A) + np.random.normal(0, 1, (1000))"
   ]
  },
  {
   "cell_type": "code",
   "execution_count": 19,
   "metadata": {},
   "outputs": [],
   "source": [
    "def myknn(xtest, xtrain, ytrain, k):\n",
    "    '''\n",
    "    Fits a K-nearest neighbors regression model using k neighbors to the dataset (xtrain, ytrain) \n",
    "    and returns the predictions on xtest.\n",
    "    \n",
    "    Args\n",
    "    ---\n",
    "        xtest (np.ndarray): test dataset with shape (n_samples, n_features)\n",
    "        xtrain (np.ndarray): train dataset with shape (n_samples, n_features)\n",
    "        ytrain (np.ndarray): train outcomes with shape (n_samples, 1)\n",
    "        k (int): number of neighbors for KNN estimator\n",
    "    \n",
    "    Returns\n",
    "    ---\n",
    "        predictions (np.ndarray): outcomes for test dataset with shape (n_samples, 1)\n",
    "        train_error (np.float64): mean squared error from training dataset\n",
    "    '''\n",
    "    # Compute pairwise distances\n",
    "    distances = helper_distances(xtrain, xtrain)\n",
    "    \n",
    "    # Find closest neighbors and \"fit\" model\n",
    "    n_samples = xtrain.shape[0]\n",
    "    predictions_train = np.empty(n_samples)\n",
    "    for i in range(n_samples):    \n",
    "        indices = helper_closest_k_points(distances[i], k)\n",
    "        outcomes = ytrain[indices]\n",
    "        predictions_train[i] = outcomes.mean()\n",
    "    \n",
    "    train_error = helper_mean_squared_error(ytrain, predictions_train)\n",
    "    \n",
    "    # Compute predictions for test data\n",
    "    distances = helper_distances(xtest, xtrain)\n",
    "    n_samples = xtest.shape[0]\n",
    "    predictions = np.empty(n_samples)\n",
    "    for i in range(n_samples):    \n",
    "        indices = helper_closest_k_points(distances[i], k)\n",
    "        outcomes = ytrain[indices]\n",
    "        predictions[i] = outcomes.mean()\n",
    "    \n",
    "    return predictions, train_error\n",
    "    \n",
    "def helper_distances(m1, m2):\n",
    "    '''\n",
    "    Computer all pairwise distances between points in matrices m1 and m2.\n",
    "    \n",
    "    Args\n",
    "    ---\n",
    "        m1 (np.ndarray): array with shape (m, p)\n",
    "        m2 (np.ndarray): array with shape (n, p)\n",
    "    \n",
    "    Returns\n",
    "    ---\n",
    "        distances (np.ndarray): array with shape (m, n). \n",
    "        \n",
    "        distances[i, j] is the pairwise distance between point i in m1 and \n",
    "        point j in m2 for i between 0 and m-1 and j between 0 and n-1\n",
    "    '''\n",
    "    size_1 = m1.shape[0]\n",
    "    size_2 = m2.shape[0]\n",
    "    \n",
    "    distances = np.empty((size_1, size_2))\n",
    "    \n",
    "    for i in range(size_1):\n",
    "        for j in range(size_2):\n",
    "            distances[i, j] = np.sqrt(np.sum((m1[i] - m2[j])**2))\n",
    "    \n",
    "    return distances\n",
    "\n",
    "def helper_closest_k_points(d, k):\n",
    "    '''\n",
    "    Return indices of k smallest distances found in array d of shape (1, n_features).\n",
    "    '''\n",
    "    return np.argsort(d)[:k]\n",
    "\n",
    "def helper_mean_squared_error(outcomes, predictions):\n",
    "    '''\n",
    "    Return mean squared error metric.\n",
    "    '''\n",
    "    return np.mean((outcomes-predictions)**2)\n",
    "    "
   ]
  },
  {
   "cell_type": "code",
   "execution_count": 20,
   "metadata": {},
   "outputs": [],
   "source": [
    "indices = np.arange(1000)\n",
    "np.random.shuffle(indices)\n",
    "train_set = indices[:500]\n",
    "test_set = indices[500:]\n",
    "\n",
    "X_train, y_train = X[train_set], y[train_set]\n",
    "X_test, y_test = X[test_set], y[test_set]\n",
    "k = 5\n",
    "\n",
    "predictions, train_error = myknn(X_test, X_train, y_train, k)\n",
    "test_error = helper_mean_squared_error(predictions, y_test)"
   ]
  },
  {
   "cell_type": "code",
   "execution_count": 21,
   "metadata": {},
   "outputs": [
    {
     "data": {
      "image/png": "[encoded data removed]",
      "text/plain": [
       "<Figure size 748.8x514.8 with 1 Axes>"
      ]
     },
     "metadata": {
      "needs_background": "light"
     },
     "output_type": "display_data"
    }
   ],
   "source": [
    "plt.bar([0, 1], [train_error, test_error], 0.5)\n",
    "plt.xticks(ticks=[0 ,1], labels=[\"Train error\", \"Test error\"])\n",
    "plt.ylabel(\"Error = $E[(Y-f\\hat(X))^2]$\")\n",
    "plt.title(\"Testing myknn function with $k=5$\")\n",
    "plt.show()\n",
    "plt.show()"
   ]
  },
  {
   "cell_type": "markdown",
   "metadata": {},
   "source": [
    "For part (b) I am using the expression $d_f = \\frac{n}{k}$ to comptute the degrees of freedom where $n$ is the number of samples and $k$ is the number of neighbors."
   ]
  },
  {
   "cell_type": "code",
   "execution_count": 22,
   "metadata": {},
   "outputs": [],
   "source": [
    "k_values = np.arange(1, 11)\n",
    "\n",
    "train_errors = np.empty(10)\n",
    "test_errors = np.empty(10)\n",
    "\n",
    "for k in k_values:\n",
    "    predictions, train_error = myknn(X_test, X_train, y_train, k)\n",
    "    test_error = helper_mean_squared_error(y_test, predictions)\n",
    "    train_errors[k-1] = train_error\n",
    "    test_errors[k-1] = test_error\n",
    "\n",
    "n = X_test.shape[0]\n",
    "df = n/k_values"
   ]
  },
  {
   "cell_type": "code",
   "execution_count": 23,
   "metadata": {},
   "outputs": [
    {
     "data": {
      "image/png": "[encoded data removed]",
      "text/plain": [
       "<Figure size 748.8x514.8 with 1 Axes>"
      ]
     },
     "metadata": {
      "needs_background": "light"
     },
     "output_type": "display_data"
    }
   ],
   "source": [
    "plt.plot(df, train_errors, \"-o\")\n",
    "plt.plot(df, test_errors, \"-^\")\n",
    "plt.xscale('log')\n",
    "plt.xticks([50, 125, 250, 500], labels=[50, 125, 250, 500])\n",
    "plt.xlabel(\"Degrees of freedom = $n/k$ \\n(log scale)\")\n",
    "plt.ylabel(\"Error = $E[(Y-f\\hat(X))^2]$\")\n",
    "plt.legend([\"Training error\", \"Test error\"])\n",
    "plt.title(\"Error vs. degrees of freedom for myknn\")\n",
    "plt.show()\n",
    "plt.close()"
   ]
  },
  {
   "cell_type": "code",
   "execution_count": 24,
   "metadata": {},
   "outputs": [
    {
     "data": {
      "text/plain": [
       "9"
      ]
     },
     "execution_count": 24,
     "metadata": {},
     "output_type": "execute_result"
    }
   ],
   "source": [
    "k_values[test_errors.argmin()]"
   ]
  },
  {
   "cell_type": "markdown",
   "metadata": {},
   "source": [
    "What is your optimal tuning parameter and the associated degrees of freedom?"
   ]
  },
  {
   "cell_type": "markdown",
   "metadata": {},
   "source": [
    "**Answer:** The optimal parameter, according to the test data, is $k=9$ which corresponds to ~55.56 degrees of freedom. We can notice that as we increase the degrees of freedom, the overfitting becomes apparent as the training error goes to zero and the test error increases. "
   ]
  },
  {
   "cell_type": "markdown",
   "metadata": {},
   "source": [
    "# Question 4 [20 Points] Curse of Dimensionality\n",
    "\n",
    "Let's consider a high-dimensional setting. Keep the model the same as question 3. We consider two cases that both generate an additional set of 95 covariates:\n",
    "\n",
    "  * Generate another 95-dimensional covariate with all independent standard Gaussian entries\n",
    "  * Generate another 95-dimensional covariate using the formula $X^T A$, where $X$ is the original 5-dimensional vector, and $A$ is a $5 \\times 95$ dimensional (fixed) matrix that remains the same for all observations. You should generate $A$ only once using i.i.d. uniform $[0, 1]$ entries.\n",
    "\n",
    "Make sure that you set seed when generating these covariates. Fit KNN in both settings (with the total of 100 covariates) and select the best $k$ value. Answer the following questions\n",
    "\n",
    "  * For each setting, what is the best $k$ and the best mean squared error for prediction?\n",
    "  * In which setting $k$NN performs better? Should this be expected? Why?"
   ]
  },
  {
   "cell_type": "code",
   "execution_count": 25,
   "metadata": {},
   "outputs": [],
   "source": [
    "import numpy as np\n",
    "\n",
    "np.random.seed(seed)\n",
    "\n",
    "# Generate (new) data\n",
    "X_gaussian = np.append(X, np.random.normal(0, 1, (1000, 95)), axis=1) # Adding 95 new covariates to X\n",
    "A = np.random.uniform(size=(5, 95))\n",
    "X_matrix = np.append(X, np.matmul(X, A), axis=1) # It's not necessary to transpose X here because the convention in Python is to have matrices in row-vector format"
   ]
  },
  {
   "cell_type": "markdown",
   "metadata": {},
   "source": [
    "Now I have `X_gaussian` and `X_matrix` with shapes (1000, 100), where 1000 is the number of samples and 100 is the number of features. The first 5 features are common for both datasets because they're from question 3. I will split the data into test and training sets as in question 3 to find the optimal $k$ parameter."
   ]
  },
  {
   "cell_type": "code",
   "execution_count": 26,
   "metadata": {},
   "outputs": [],
   "source": [
    "indices = np.arange(1000)\n",
    "np.random.shuffle(indices)\n",
    "train_set = indices[:500]\n",
    "test_set = indices[500:]\n",
    "\n",
    "X_train_gaussian, y_train = X_gaussian[train_set], y[train_set] # y is the same as for question 3\n",
    "X_test_gaussian, y_test = X_gaussian[test_set], y[test_set]\n",
    "\n",
    "X_train_matrix = X_matrix[train_set] # there's no need to set y again, it's the same for both datasets\n",
    "X_test_matrix = X_matrix[test_set]"
   ]
  },
  {
   "cell_type": "code",
   "execution_count": 27,
   "metadata": {},
   "outputs": [],
   "source": [
    "k_values = np.arange(1, 11)\n",
    "\n",
    "train_errors_gaussian = np.empty(10)\n",
    "train_errors_matrix = np.empty(10)\n",
    "test_errors_gaussian = np.empty(10)\n",
    "test_errors_matrix = np.empty(10)\n",
    "\n",
    "for k in k_values:\n",
    "    predictions_gaussian, train_error_gaussian = myknn(X_test_gaussian, X_train_gaussian, y_train, k)\n",
    "    predictions_matrix, train_error_matrix = myknn(X_test_matrix, X_train_matrix, y_train, k)\n",
    "    \n",
    "    test_error_gaussian = helper_mean_squared_error(y_test, predictions_gaussian)\n",
    "    test_error_matrix = helper_mean_squared_error(y_test, predictions_matrix)\n",
    "    \n",
    "    train_errors_gaussian[k-1] = train_error_gaussian\n",
    "    train_errors_matrix[k-1] = train_error_matrix\n",
    "    \n",
    "    test_errors_gaussian[k-1] = test_error_gaussian\n",
    "    test_errors_matrix[k-1] = test_error_matrix\n",
    "\n",
    "n = X_test.shape[0]\n",
    "df = n/k_values"
   ]
  },
  {
   "cell_type": "code",
   "execution_count": 28,
   "metadata": {},
   "outputs": [
    {
     "data": {
      "image/png": "[encoded data removed]",
      "text/plain": [
       "<Figure size 748.8x514.8 with 1 Axes>"
      ]
     },
     "metadata": {
      "needs_background": "light"
     },
     "output_type": "display_data"
    }
   ],
   "source": [
    "plt.plot(df, train_errors_gaussian, \"-o\")\n",
    "plt.plot(df, test_errors_gaussian, \"-^\")\n",
    "plt.plot(df, train_errors_matrix, \"-*\")\n",
    "plt.plot(df, test_errors_matrix, \"-s\")\n",
    "plt.xscale('log')\n",
    "plt.xticks([50, 125, 250, 500], labels=[50, 125, 250, 500])\n",
    "plt.xlabel(\"Degrees of freedom = $n/k$ \\n(log scale)\")\n",
    "plt.ylabel(\"Error = $E[(Y-f\\hat(X))^2]$\")\n",
    "plt.legend([\"Training error (gaussian)\", \"Test error (gaussian)\", \"Training error (matrix)\", \"Test error (matrix)\"])\n",
    "plt.title(\"Error vs. degrees of freedom for high-dimensional data\")\n",
    "plt.show()\n",
    "plt.close()"
   ]
  },
  {
   "cell_type": "markdown",
   "metadata": {},
   "source": [
    "For each setting, what is the best $k$ and the best mean squared error for prediction?"
   ]
  },
  {
   "cell_type": "markdown",
   "metadata": {},
   "source": [
    "**Answer:** The optimum is $k=10$ for the data derived from the matrix $A$. The optimum is also $k=10$ for the data generated from the Gaussian distribution. The optimal mean squared errors are $1.51$ (matrix data) and $2.83$ (Gaussian data). I've printed the values below for verification."
   ]
  },
  {
   "cell_type": "code",
   "execution_count": 29,
   "metadata": {},
   "outputs": [
    {
     "name": "stdout",
     "output_type": "stream",
     "text": [
      "Optimal error for Gaussian data: 2.47\n",
      "Optimal k for Gaussian data: 10\n"
     ]
    }
   ],
   "source": [
    "print(\"Optimal error for Gaussian data:\", test_errors_gaussian[test_errors_gaussian.argmin()].round(2)) \n",
    "print(\"Optimal k for Gaussian data:\", k_values[test_errors_gaussian.argmin()]) "
   ]
  },
  {
   "cell_type": "code",
   "execution_count": 30,
   "metadata": {},
   "outputs": [
    {
     "name": "stdout",
     "output_type": "stream",
     "text": [
      "Optimal error for matrix data: 1.54\n",
      "Optimal k for matrix data: 10\n"
     ]
    }
   ],
   "source": [
    "print(\"Optimal error for matrix data:\", test_errors_matrix[test_errors_matrix.argmin()].round(2)) \n",
    "print(\"Optimal k for matrix data:\", k_values[test_errors_matrix.argmin()]) "
   ]
  },
  {
   "cell_type": "markdown",
   "metadata": {},
   "source": [
    "In which setting $k$NN performs better? Should this be expected? Why?"
   ]
  },
  {
   "cell_type": "markdown",
   "metadata": {},
   "source": [
    "**Answer:** KNN performs better for the data generated by the matrix. This should be expected because the way we generated the data implies that it can be projected into a lower-dimensional subspace with 5 dimensions. Given that we followed a simple linear transformation to obtain the 95 additional covariates, these extra features do not introduce much variance to the sample, so we can use a model with a low inherent bias (KNN) to efficiently model the data."
   ]
  }
 ],
 "metadata": {
  "kernelspec": {
   "display_name": "Python 3",
   "language": "python",
   "name": "python3"
  },
  "language_info": {
   "codemirror_mode": {
    "name": "ipython",
    "version": 3
   },
   "file_extension": ".py",
   "mimetype": "text/x-python",
   "name": "python",
   "nbconvert_exporter": "python",
   "pygments_lexer": "ipython3",
   "version": "3.7.6"
  }
 },
 "nbformat": 4,
 "nbformat_minor": 4
}
