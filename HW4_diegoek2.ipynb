{
 "cells": [
  {
   "cell_type": "markdown",
   "metadata": {},
   "source": [
    "# STATS 542: Homework 4"
   ]
  },
  {
   "cell_type": "markdown",
   "metadata": {},
   "source": [
    "<h4><center> Diego Kleiman (diegoek2) </center></h4>\n",
    "<h4><center> Due: Tuesday 11:59 PM CT, Mar 2nd </center></h4>"
   ]
  },
  {
   "cell_type": "markdown",
   "metadata": {},
   "source": [
    "## About HW4\n",
    "\n",
    "This HW contains two major parts. In the first part, we will try to understand the properties of Ridge regression under a case where variables are highly correlated. In the first part, we perform an one-variable Lasso problem using the formula developed in the lecture. This one-variable Lasso code will then be used in HW5 to solve the solution of Lasso in a coordinate descent algorithm. \n"
   ]
  },
  {
   "cell_type": "markdown",
   "metadata": {},
   "source": [
    "## Question 1 [40 Points] Correlated Variables in Ridge\n",
    "\n",
    "For this question, we will use the same [Bitcoin data](https://teazrq.github.io/stat542/data/bitcoin.csv) we already constructed in HW3. Use the same training and testing data construction. You may have already noticed that if a linear model is used to perform that task, some parameters cannot be properly estimated, for example, the `n_transactions_total` parameter is only estimated on day 1, while for day 2 and 3, their parameter estimates are `NA` because they are both highly linearly dependent on day 1. Co-linearity is a severe problem of linear regression but Ridge regression can be used to solve that problem. "
   ]
  },
  {
   "cell_type": "markdown",
   "metadata": {},
   "source": [
    "### [20 Points] A Simulation Study\n",
    "\n",
    "For this sub-question you must **write your own code** without using loading any additional package, but you can still use the `lm()` function from the base package. Construct your data in the following way\n",
    "\n",
    "$$ Y = X_1 \\times 0.7 + X_2 \\times 0.8 + X_3 \\times 0.9 + \\epsilon $$\n",
    "where $X_1$ and $\\epsilon$ are generated independently from standard normal distribution, and the other two covariates are simply copies of $X_1$, meaning that $X_2 = X_3 = X_1$. Generate 100 samples from this model, make sure that you save a random seed. You should write your down code to implement the ridge regression, and **no intercept is needed**. Answer the following questions before you actually fit the models:\n",
    "\n",
    "  * What will happen (regarding the parameter estimates) when you fit a linear regression using data from this model? And why?\n"
   ]
  },
  {
   "cell_type": "markdown",
   "metadata": {},
   "source": [
    "**Answer:**\n",
    "\n",
    "Trying to fit a linear regression using OLS would result in a singular $X^TX$ matrix because its columns are linearly dependent (they are all equal). Since this matrix is not invertible, we cannot compute $\\hat\\beta=(X^TX)^{-1}X^Ty$.\n",
    "\n",
    "Even if the columns were slightly different (but still highly correlated), we would have issues because the coefficients could have very high absolute values. This would be result in a model with high variance. This is because two highly correlated variables can carry large coefficients with opposite signs and offset each other."
   ]
  },
  {
   "cell_type": "markdown",
   "metadata": {},
   "source": [
    "  * Will Ridge regression be able to address this problem? Will the parameters of the three variables be different or the same?\n",
    " "
   ]
  },
  {
   "cell_type": "markdown",
   "metadata": {},
   "source": [
    "**Answer**:\n",
    "\n",
    "Yes, with ridge regression this issue would be solved. The parameter estimates should all be the same because we are penalizing the sum of their squares and the minimum would be reached when all the coefficients are the same. Note that it does not matter that the coefficients are different in our ground-truth model for $Y$ because all the covariates carry the exact same information."
   ]
  },
  {
   "cell_type": "markdown",
   "metadata": {},
   "source": [
    " * Using the singular value decomposition (SVD) and shrinkage understanding we developed during the lecture to explain why you would expect such results from the ridge regression. "
   ]
  },
  {
   "cell_type": "markdown",
   "metadata": {},
   "source": [
    "**Answer**:\n",
    "\n",
    "Fitting the ridge regression is analogous to performing principal component analysis on the data and shrinking the coefficients for the low variance components in comparison to the high variance component. Since the data is perfectly collinear in this case (given $X_2 = X_3 = X_1$) all of the variance is accounted by the principal component. Therefore, the first eigenvalue will be relatively high and the remaining ones will be (virtually) zero. The principal direction is a linear combination of the three coordinates spanning the vector space of the data where all the linear coefficients are the same due to the perfect collinearity of the data. In other words, the principal direction is formed by mixing the three existing coordinates in \"equal parts\" which helps explain why all elements of $\\hat\\beta_{ridge}$ are the same."
   ]
  },
  {
   "cell_type": "markdown",
   "metadata": {},
   "source": [
    "Now, use your generated data to confirm your statements. You do no need to tune the penalty term $\\lambda$, just fix it at any nonzero value. Display sufficient information to support your statements, this includes the eigen-values and the rotation matrix $\\mathbf{V}$ from the SVD of $X$. \n",
    "\n",
    "After preforming the above, modify your data by multiplying your $X_1$ by 2. Then use your code to fit the ridge regression again. What changes do you observe? Are the fitted value $\\hat y$ changing? "
   ]
  },
  {
   "cell_type": "code",
   "execution_count": 1,
   "metadata": {},
   "outputs": [],
   "source": [
    "seed = 1"
   ]
  },
  {
   "cell_type": "code",
   "execution_count": 2,
   "metadata": {},
   "outputs": [],
   "source": [
    "import numpy as np # Needed because Python does not have native vector object"
   ]
  },
  {
   "cell_type": "code",
   "execution_count": 3,
   "metadata": {},
   "outputs": [],
   "source": [
    "def fit_ridge_regression(X, y, l=1, seed=None):\n",
    "    '''\n",
    "    Fit ridge regression with design matrix X (no intercept), output y, and lambda l (defaults to 1).\n",
    "    If seed is given, the numpy random seed will be set to that value.\n",
    "    \n",
    "    Returns beta_hat (fit parameters).\n",
    "    '''\n",
    "    if seed:\n",
    "        np.random.seed(seed)\n",
    "    \n",
    "    M = np.matmul(X.T, X)\n",
    "    \n",
    "    assert(M.shape[0] == M.shape[1]) # M should be square\n",
    "    size = M.shape[0]\n",
    "    \n",
    "    I = np.identity(size)\n",
    "    \n",
    "    M_inv = np.linalg.inv(M + l*I)\n",
    "    \n",
    "    return np.matmul(np.matmul(M_inv, X.T), y)"
   ]
  },
  {
   "cell_type": "code",
   "execution_count": 4,
   "metadata": {},
   "outputs": [],
   "source": [
    "# Construct data\n",
    "np.random.seed(seed)\n",
    "\n",
    "X1 = np.random.normal(size=100) # 100 samples from standard normal distribution\n",
    "X2 = X1\n",
    "X3 = X1\n",
    "\n",
    "X = np.empty((100, 3))\n",
    "X[:,0] = X1\n",
    "X[:, 1] = X2\n",
    "X[:, 2] = X3\n",
    "\n",
    "epsilon = np.random.normal(size=100)\n",
    "\n",
    "y = 0.7*X1+0.8*X2+0.9*X3 + epsilon"
   ]
  },
  {
   "cell_type": "code",
   "execution_count": 5,
   "metadata": {},
   "outputs": [],
   "source": [
    "#Fit ridge regression\n",
    "beta_hat = fit_ridge_regression(X, y, seed=seed)"
   ]
  },
  {
   "cell_type": "code",
   "execution_count": 6,
   "metadata": {},
   "outputs": [
    {
     "name": "stdout",
     "output_type": "stream",
     "text": [
      "[0.83205716 0.83205716 0.83205716]\n"
     ]
    }
   ],
   "source": [
    "print(beta_hat)"
   ]
  },
  {
   "cell_type": "markdown",
   "metadata": {},
   "source": [
    "**Answer:**\n",
    "we obtained equal coefficients as I was expecting."
   ]
  },
  {
   "cell_type": "markdown",
   "metadata": {},
   "source": [
    "Looking at the eigenvalues of $X^TX$:"
   ]
  },
  {
   "cell_type": "code",
   "execution_count": 7,
   "metadata": {},
   "outputs": [
    {
     "name": "stdout",
     "output_type": "stream",
     "text": [
      "[ 2.36151541e+02 -2.32062286e-14  1.51939595e-31]\n"
     ]
    }
   ],
   "source": [
    "eigenvalues, eigenvectors = np.linalg.eig(np.matmul(X.T, X))\n",
    "print(eigenvalues)"
   ]
  },
  {
   "cell_type": "markdown",
   "metadata": {},
   "source": [
    "**Answer:**\n",
    "we obtained one large eigenvalue and all the other eigenvalues are nearly zero, as explained above."
   ]
  },
  {
   "cell_type": "code",
   "execution_count": 8,
   "metadata": {},
   "outputs": [
    {
     "name": "stdout",
     "output_type": "stream",
     "text": [
      "[[-0.57735027 -0.81649658 -0.        ]\n",
      " [-0.57735027  0.40824829  0.70710678]\n",
      " [-0.57735027  0.40824829 -0.70710678]]\n"
     ]
    }
   ],
   "source": [
    "U, D, V = np.linalg.svd(np.matmul(X.T, X)) \n",
    "print(V.T)"
   ]
  },
  {
   "cell_type": "markdown",
   "metadata": {},
   "source": [
    "**Answer:**\n",
    "we can see that in the matrix $V$ we have a first principal direction, (-0.57735027, -0.57735027, -0.57735027), that has exactly equal coefficients for all coordinates (e.g., the coordinates are \"mixed in equal parts\"). This also aligns with what I said above."
   ]
  },
  {
   "cell_type": "markdown",
   "metadata": {},
   "source": [
    "Now let us multiply $X_1$ by $2$ and repeat the simulation."
   ]
  },
  {
   "cell_type": "code",
   "execution_count": 9,
   "metadata": {},
   "outputs": [],
   "source": [
    "X = np.empty((100, 3))\n",
    "X[:,0] = X1*2\n",
    "X[:, 1] = X2\n",
    "X[:, 2] = X3\n",
    "\n",
    "y = 0.7*X1+0.8*X2+0.9*X3 + epsilon"
   ]
  },
  {
   "cell_type": "code",
   "execution_count": 10,
   "metadata": {},
   "outputs": [],
   "source": [
    "beta_hat_2 = fit_ridge_regression(X, y, seed=seed)"
   ]
  },
  {
   "cell_type": "code",
   "execution_count": 11,
   "metadata": {},
   "outputs": [
    {
     "name": "stdout",
     "output_type": "stream",
     "text": [
      "[0.83381514 0.41690757 0.41690757]\n"
     ]
    }
   ],
   "source": [
    "print(beta_hat_2)"
   ]
  },
  {
   "cell_type": "code",
   "execution_count": 12,
   "metadata": {},
   "outputs": [
    {
     "name": "stdout",
     "output_type": "stream",
     "text": [
      "[ 4.72303083e+02 -5.32094041e-14  1.02728448e-30]\n"
     ]
    }
   ],
   "source": [
    "eigenvalues, eigenvectors = np.linalg.eig(np.matmul(X.T, X))\n",
    "print(eigenvalues)"
   ]
  },
  {
   "cell_type": "code",
   "execution_count": 13,
   "metadata": {},
   "outputs": [
    {
     "name": "stdout",
     "output_type": "stream",
     "text": [
      "[[-0.81649658 -0.57735027 -0.        ]\n",
      " [-0.40824829  0.57735027  0.70710678]\n",
      " [-0.40824829  0.57735027 -0.70710678]]\n"
     ]
    }
   ],
   "source": [
    "U, D, V = np.linalg.svd(np.matmul(X.T, X)) \n",
    "print(V.T)"
   ]
  },
  {
   "cell_type": "markdown",
   "metadata": {},
   "source": [
    "**Answer:**\n",
    "we can appreciate that the parameter for the doubled covariate is now double the coefficients of the other two covariates. When looking at the matrix $V$ we can see that the reason is that the principal direction now points more towards the first coordinate, as shown by the highest coefficient (in absolute value) in the first column of $V$."
   ]
  },
  {
   "cell_type": "markdown",
   "metadata": {},
   "source": [
    "### [20 Points] Bitcoin Price Prediction Revisited\n",
    "\n",
    "For this question, take the same training and testing split from the Bitcoin data, and fit a ridge regression. You can use any existing package to perform this.\n",
    "\n",
    "  * State what criteria is used to select the best $\\lambda$.\n",
    "  \n",
    "**Answer:** I am using leave-one-out cross validation to select the best lambda.\n",
    "\n",
    "  * State what values of $\\lambda$ are considered.\n",
    "  \n",
    "**Answer:** I am considering these values: [0.001, 0.003, 0.01, 0.03, 0.1, 0.3, 1, 3, 10].\n",
    "\n",
    "  * Compare your model fitting results with the linear model in terms of their performances on the testing data.\n",
    "  \n",
    "**Answer:** see errors at the end of the question."
   ]
  },
  {
   "cell_type": "code",
   "execution_count": 14,
   "metadata": {},
   "outputs": [],
   "source": [
    "import pandas as pd\n",
    "from sklearn.preprocessing import RobustScaler\n",
    "from sklearn.linear_model import RidgeCV\n",
    "from sklearn.metrics import mean_squared_error"
   ]
  },
  {
   "cell_type": "code",
   "execution_count": 15,
   "metadata": {},
   "outputs": [],
   "source": [
    "def preprocess_data(csv_file):\n",
    "    '''\n",
    "    Process bitcoin data the same way I did for HW3, Q2.1\n",
    "    '''\n",
    "    \n",
    "    bitcoin_raw_data = pd.read_csv(csv_file) # Load data\n",
    "    bitcoin_raw_data.Date = pd.to_datetime(bitcoin_raw_data.Date) # Convert to datetime format\n",
    "    \n",
    "    # Split test and train data\n",
    "    bitcoin_raw_train = bitcoin_raw_data[bitcoin_raw_data.Date <= '2016-12-31'] # Before or on 12/31/2016\n",
    "    bitcoin_raw_test = bitcoin_raw_data[bitcoin_raw_data.Date >= '2017-01-01'] # On or after 01/01/2017\n",
    "    bitcoin_raw_test = bitcoin_raw_test.reset_index(drop=True) # Make sure index starts at zero\n",
    "    \n",
    "    # Get new (unique) column names for each column in design matrix\n",
    "    temp = bitcoin_raw_train.loc[:2, bitcoin_raw_train.columns != 'Date']\n",
    "    temp.index = temp.index + 1\n",
    "    temp2 = temp.stack()\n",
    "    temp2.index = temp2.index.map('{0[1]}_{0[0]}'.format)\n",
    "    new_column_names = temp2.to_frame().T.columns.to_list()\n",
    "    \n",
    "    # Convert to numpy to rearrange data\n",
    "    bitcoin_raw_train_numpy = bitcoin_raw_train.to_numpy()\n",
    "    bitcoin_raw_test_numpy = bitcoin_raw_test.to_numpy()\n",
    "\n",
    "    # Drop \"Date\" column (they are ordered by index anyway)\n",
    "    bitcoin_raw_train_numpy = bitcoin_raw_train_numpy[:, 1:]\n",
    "    bitcoin_raw_test_numpy = bitcoin_raw_test_numpy[:, 1:]\n",
    "\n",
    "    # Build training dataset\n",
    "    N = bitcoin_raw_train.shape[0]\n",
    "    train_set = np.empty((N-6, 69)) # N-6 samples and 69 columns\n",
    "    train_outcomes = np.empty((N-6))\n",
    "    for n in range(N-6):\n",
    "        row = bitcoin_raw_train_numpy[n:n+3].reshape(1, 69)\n",
    "        train_set[n, :] = row\n",
    "        train_outcomes[n] = bitcoin_raw_train_numpy[n+6, 0]\n",
    "\n",
    "    # Build testing dataset\n",
    "    N = bitcoin_raw_test.shape[0]\n",
    "    test_set = np.empty((N-6, 69)) # N-5 samples and 69 columns\n",
    "    test_outcomes = np.empty((N-6))\n",
    "    for n in range(N-6):\n",
    "        row = bitcoin_raw_test_numpy[n:n+3].reshape(1, 69)\n",
    "        test_set[n, :] = row\n",
    "        test_outcomes[n] = bitcoin_raw_test_numpy[n+6, 0]\n",
    "    \n",
    "    # Convert back to pandas dataframes\n",
    "    train_set = pd.DataFrame(np.append(train_set, train_outcomes.reshape(train_outcomes.shape[0], 1), axis=1), columns=new_column_names + ['outcome'])\n",
    "    test_set = pd.DataFrame(np.append(test_set, test_outcomes.reshape(test_outcomes.shape[0], 1), axis=1), columns=new_column_names + ['outcome'])\n",
    "    \n",
    "    # Drop any potential null (N/A) values\n",
    "    train_set = train_set.dropna()\n",
    "    test_set = test_set.dropna()\n",
    "    \n",
    "    # Scale data\n",
    "    scaler = RobustScaler().fit(train_set)\n",
    "    train_set = scaler.transform(train_set)\n",
    "    test_set = scaler.transform(test_set)\n",
    "    \n",
    "    return train_set, test_set"
   ]
  },
  {
   "cell_type": "code",
   "execution_count": 16,
   "metadata": {},
   "outputs": [],
   "source": [
    "train_set, test_set = preprocess_data('bitcoin.csv')"
   ]
  },
  {
   "cell_type": "code",
   "execution_count": 17,
   "metadata": {},
   "outputs": [],
   "source": [
    "X_train = train_set[:, :-1]\n",
    "y_train = train_set[:, -1]\n",
    "\n",
    "X_test = test_set[:, :-1]\n",
    "y_test = test_set[:, -1]"
   ]
  },
  {
   "cell_type": "code",
   "execution_count": 18,
   "metadata": {},
   "outputs": [],
   "source": [
    "l = np.asarray([0.001, 0.003, 0.01, 0.03, 0.1, 0.3, 1, 3, 10]) # Values of lambda that are considered\n",
    "ridge = RidgeCV(alphas=l, store_cv_values=True).fit(X_train, y_train)"
   ]
  },
  {
   "cell_type": "code",
   "execution_count": 19,
   "metadata": {},
   "outputs": [
    {
     "data": {
      "text/plain": [
       "0.1"
      ]
     },
     "execution_count": 19,
     "metadata": {},
     "output_type": "execute_result"
    }
   ],
   "source": [
    "ridge.alpha_"
   ]
  },
  {
   "cell_type": "markdown",
   "metadata": {},
   "source": [
    "**Answer:** the best model used $\\lambda = 0.1$"
   ]
  },
  {
   "cell_type": "code",
   "execution_count": 20,
   "metadata": {},
   "outputs": [],
   "source": [
    "# Scoring the model against test data\n",
    "y_hat = ridge.predict(X_test)\n",
    "MSE = mean_squared_error(y_test, y_hat)"
   ]
  },
  {
   "cell_type": "code",
   "execution_count": 21,
   "metadata": {},
   "outputs": [
    {
     "name": "stdout",
     "output_type": "stream",
     "text": [
      "Ridge regression test MSE: 6.340686826122607\n"
     ]
    }
   ],
   "source": [
    "print(\"Ridge regression test MSE:\", MSE)"
   ]
  },
  {
   "cell_type": "markdown",
   "metadata": {},
   "source": [
    "Recalling the error from my OLS model from HW3 (backward selection with BIC):\n",
    "\n",
    "`MSE backward test error: 5.6939683521808355`"
   ]
  },
  {
   "cell_type": "markdown",
   "metadata": {},
   "source": [
    "**Answer:** since the test error is higher for the ridge model, we can conclude that OLS model performs better. This is probably due to the introduction of bias in ridge regression, which is too high to offset the reduction in variance we are gaining here. Since the OLS is the BLUE, there is no bias introduced in that model. We also have to consider that I used different model selection criteria to get the models I'm comparing: I used backward selection (with BIC) to select the best features in the OLS model, but I used leave-one-out CV to pick the best $\\lambda$ for ridge regression, so this might have also impacted the performance of ridge regression."
   ]
  },
  {
   "cell_type": "markdown",
   "metadata": {},
   "source": [
    "## Question 2 [60 Points] One Variable Lasso\n",
    "\n",
    "Based on our development in the lecture, fitting a one variable Lasso is simply a soft-thresholding problem. Use the following code the generate a normalized data (if you use python, then do `import random` and call `random.seed(1)`) :\n",
    "\n",
    "```r\n",
    "  set.seed(1)\n",
    "  n = 100\n",
    "  X = rnorm(n)\n",
    "  X = X / sqrt(sum(X*X))\n",
    "  Y = X + rnorm(n)\n",
    "```\n",
    "\n",
    "Please be aware that instead of $\\mathbf{X}^T \\mathbf{X} = \\mathbf{I}$ in the lecture note, we have $\\mathbf{X}^T \\mathbf{X} = n \\mathbf{I}$. However, the derivation in page 33, 34 and 35 from the lecture notes remains largely unchanged except some scaling issues. We will derive a new result using the following objective function for this question:\n",
    "\n",
    "$$\\arg\\min_{\\beta} \\frac{1}{2n} \\lVert \\mathbf{y} - \\mathbf{X}\\beta \\rVert^2 + \\lambda \\lVert \\beta \\rVert_1$$"
   ]
  },
  {
   "cell_type": "code",
   "execution_count": 22,
   "metadata": {},
   "outputs": [],
   "source": [
    "np.random.seed(seed)\n",
    "n = 100\n",
    "X = np.random.normal(size=n)\n",
    "X = X / np.sqrt(np.sum(X*X))\n",
    "Y = X + np.random.normal(size=n)"
   ]
  },
  {
   "cell_type": "markdown",
   "metadata": {},
   "source": [
    "### [30 Points] The Soft-thresholding Function\n",
    "\n",
    "Consider a model **without intercept**. Perform the rest:\n",
    "\n",
    "  * Re-derive the ${\\hat \\beta}^{\\text Lasso}$ formula in page 34 and 35 based on this one variable Lasso problem with $\\mathbf{X}^T \\mathbf{X} = \\mathbf{I}$. What is the difference between this and the original one? \n",
    "  * After you obtaining the soft-thresholding solution similar to page 35, write a function in the form of `soft_th <- function(b, lambda)` to calculate it, where `b` is the OLS estimator, and $\\lambda$ is the penalty level.\n",
    "  * Apply this function to your data and obtain the Lasso solution. Report your results\n"
   ]
  },
  {
   "cell_type": "markdown",
   "metadata": {},
   "source": [
    "Here I will derive the result for $\\hat\\beta^{Lasso}$ for the case $X^TX=nI$ with the objective function\n",
    "\n",
    "$$\\arg\\min_{\\beta} \\frac{1}{2n} \\lVert \\mathbf{y} - \\mathbf{X}\\beta \\rVert^2 + \\lambda \\lVert \\beta \\rVert_1$$\n",
    "\n"
   ]
  },
  {
   "cell_type": "markdown",
   "metadata": {},
   "source": [
    "Derivation:\n",
    "$$\\hat\\beta^{Lasso}=\\arg\\min_{\\beta} \\frac{1}{2n} \\lVert \\mathbf{y} - \\mathbf{X}\\beta \\rVert^2 + \\lambda \\lVert \\beta \\rVert_1$$"
   ]
  },
  {
   "cell_type": "markdown",
   "metadata": {},
   "source": [
    "$$\\hat\\beta^{Lasso}=\\arg\\min_{\\beta} \\frac{1}{2n} \\lVert \\mathbf{y} - \\mathbf{X}\\hat\\beta^{OLS} \\rVert^2 + \\lVert \\mathbf{X}\\hat\\beta^{OLS} - \\mathbf{X}\\beta \\rVert^2 + \\lambda \\lVert \\beta \\rVert_1$$"
   ]
  },
  {
   "cell_type": "markdown",
   "metadata": {},
   "source": [
    "$$\\hat\\beta^{Lasso}=\\arg\\min_{\\beta} \\frac{1}{2n} \\lVert \\mathbf{X}\\hat\\beta^{OLS} - \\mathbf{X}\\beta \\rVert^2 + \\lambda \\lVert \\beta \\rVert_1$$"
   ]
  },
  {
   "cell_type": "markdown",
   "metadata": {},
   "source": [
    "$$\\hat\\beta^{Lasso}=\\arg\\min_{\\beta} \\frac{1}{2n} (\\hat\\beta^{OLS} - \\beta)^T \\mathbf{X}^T \\mathbf{X} (\\hat\\beta^{OLS} - \\beta) + \\lambda \\lVert \\beta \\rVert_1$$"
   ]
  },
  {
   "cell_type": "markdown",
   "metadata": {},
   "source": [
    "$$\\hat\\beta^{Lasso}=\\arg\\min_{\\beta} \\frac{1}{2} (\\hat\\beta^{OLS} - \\beta)^T (\\hat\\beta^{OLS} - \\beta) + \\lambda \\lVert \\beta \\rVert_1$$"
   ]
  },
  {
   "cell_type": "markdown",
   "metadata": {},
   "source": [
    "$$\\hat\\beta^{Lasso}_j=\\arg\\min_{\\beta_j} \\frac{1}{2}  (\\hat\\beta^{OLS}_j - \\beta_j)^2 + \\lambda \\lVert \\beta_j \\rVert_1$$"
   ]
  },
  {
   "cell_type": "markdown",
   "metadata": {},
   "source": [
    "$$\\hat\\beta^{Lasso}_j=\n",
    "\\begin{cases}\n",
    "      \\hat\\beta^{OLS}_j - \\lambda & \\hat\\beta^{OLS}_j > \\lambda\\\\\n",
    "      0 & \\vert{\\hat\\beta^{OLS}_j}\\vert \\le \\lambda\\\\\n",
    "      \\hat\\beta^{OLS}_j + \\lambda & \\hat\\beta^{OLS}_j < -\\lambda\\\\\n",
    "    \\end{cases}$$"
   ]
  },
  {
   "cell_type": "markdown",
   "metadata": {},
   "source": [
    "The difference between this solution and the one from slide 35 is that the lambda parameter is not scaled by $\\frac{1}{2}$. This is the result of adding the $\\frac{1}{2}$ scaling factor in the objective function. We can also observe that although we had $X^TX=nI$, there is no $n$ factor in the solution because it was taken care of in the objective function. "
   ]
  },
  {
   "cell_type": "code",
   "execution_count": 23,
   "metadata": {},
   "outputs": [],
   "source": [
    "def soft_th(b, l):\n",
    "    '''\n",
    "    Return the Lasso regression fit parameters from the corresponding OLS parameters (b) and penalty constant (l).\n",
    "    '''\n",
    "    assert(l > 0) # lambda must be greater than zero\n",
    "    \n",
    "    size = b.shape[0]\n",
    "    b_lasso = np.empty(size)\n",
    "    \n",
    "    for j in range(size):\n",
    "        if b[j] > l:\n",
    "            b_lasso[j] = b[j] - l\n",
    "        elif np.abs(b[j]) < l:\n",
    "            b_lasso[j] = 0\n",
    "        elif b[j] < -l:\n",
    "            b_lasso[j] = b[j] + l\n",
    "    \n",
    "    return b_lasso"
   ]
  },
  {
   "cell_type": "code",
   "execution_count": 24,
   "metadata": {},
   "outputs": [],
   "source": [
    "from sklearn.linear_model import LinearRegression\n",
    "\n",
    "model = LinearRegression(fit_intercept=False).fit(X.reshape(100, 1), Y)\n",
    "b = model.coef_\n",
    "OLS_error = mean_squared_error(Y, model.predict(X.reshape(100, 1)))\n",
    "l_values = [1e-6, 1e-5, 1e-4, 1e-3, 1e-2, 1e-1, 1, 10] # Lambda values I'm considering\n",
    "size = len(l_values)\n",
    "errors = np.empty(size)\n",
    "\n",
    "for i in range(size):\n",
    "    b_lasso = soft_th(b, l_values[i])\n",
    "    Y_hat = np.matmul(X.reshape(100, 1), b_lasso)\n",
    "    errors[i] = mean_squared_error(Y, Y_hat)"
   ]
  },
  {
   "cell_type": "code",
   "execution_count": 25,
   "metadata": {},
   "outputs": [],
   "source": [
    "b_lasso_best = soft_th(b, l_values[errors.argmin()])"
   ]
  },
  {
   "cell_type": "code",
   "execution_count": 26,
   "metadata": {},
   "outputs": [
    {
     "name": "stdout",
     "output_type": "stream",
     "text": [
      "Best parameter: [1.94704012]\n",
      "OLS parameter: [1.94704112]\n"
     ]
    }
   ],
   "source": [
    "print(\"Best parameter:\", b_lasso_best)\n",
    "print(\"OLS parameter:\", b)"
   ]
  },
  {
   "cell_type": "code",
   "execution_count": 27,
   "metadata": {},
   "outputs": [
    {
     "name": "stdout",
     "output_type": "stream",
     "text": [
      "Lasso MSE (best model): 0.8829917150395454\n",
      "OLS MSE: 0.8829917150395354\n"
     ]
    }
   ],
   "source": [
    "print(\"Lasso MSE (best model):\", errors[errors.argmin()])\n",
    "print(\"OLS MSE:\", OLS_error)"
   ]
  },
  {
   "cell_type": "code",
   "execution_count": 28,
   "metadata": {},
   "outputs": [
    {
     "data": {
      "image/png": "[encoded data removed]",
      "text/plain": [
       "<Figure size 921.6x633.6 with 1 Axes>"
      ]
     },
     "metadata": {},
     "output_type": "display_data"
    }
   ],
   "source": [
    "from matplotlib import pyplot as plt\n",
    "plt.style.use('seaborn-poster')\n",
    "plt.style.use('seaborn-darkgrid')\n",
    "\n",
    "plt.plot(l_values, errors)\n",
    "plt.title(\"MSE vs. $\\lambda$ for one-variable Lasso regression\")\n",
    "plt.legend([\"Prediction error\"])\n",
    "plt.xlabel(\"$\\lambda$ (logscale)\")\n",
    "plt.ylabel(\"MSE\")\n",
    "plt.xscale('log')\n",
    "plt.show()\n",
    "plt.close()"
   ]
  },
  {
   "cell_type": "markdown",
   "metadata": {},
   "source": [
    "We can conclude that applying the penalization resulted in a slightly lower parameter for this one-variable regression. However, the error did not decrease when using Lasso instead of OLS. This might be caused by the bias term in Lasso. In terms of the optimal $\\lambda$ value, it is clear from the plot that any value lower than $10^{-1}$ achieved the same result (the MSEs are the same). For $\\lambda=10$, the parameter was zero."
   ]
  },
  {
   "cell_type": "markdown",
   "metadata": {},
   "source": [
    "### [30 Points] The Intercept, centering and Scaling Issue\n",
    "\n",
    "Re-generate your data based on the following code:\n",
    "\n",
    "```r\n",
    "  set.seed(1)\n",
    "  n = 100\n",
    "  X = rnorm(n, mean = 1, sd = 2)\n",
    "  Y = 1 + X + rnorm(n)\n",
    "```\n",
    "\n",
    "For this question, we will use a technique to deal with the center and scale of $X$ based on the following intuition: \n",
    "\n",
    "$$\n",
    "\\begin{align}\n",
    "\\frac{Y - \\bar{Y}}{\\text{sd}_y} =&~ \\sum_{j=1}^p \\frac{X_j - \\bar{X}_j}{\\text{sd}_j} \\gamma_j \\\\\n",
    "Y =&~ \\underbrace{\\bar{Y} - \\sum_{j=1}^p \\bar{X}_j \\frac{\\text{sd}_y \\cdot \\gamma_j}{\\text{sd}_j}}_{\\beta_0} + \\sum_{j=1}^p X_j \\underbrace{\\frac{\\text{sd}_y \\cdot \\gamma_j}{\\text{sd}_j}}_{\\beta_j},\n",
    "\\end{align}\n",
    "$$\n",
    "\n",
    "A common practice when dealing with the intercept and scaling is to perform the following:\n",
    "\n",
    "  * Center and scale both $\\mathbf{X}$ (column-wise) and $\\mathbf{y}$ and denote the processed data as $\\frac{Y - \\bar{Y}}{\\text{sd}_y}$ and $\\frac{X_j - \\bar{X}_j}{\\text{sd}_j}$ in the above formula.\n",
    "  * Fit a linear regression (or Lasso) using the processed data based on the no-intercept model, and obtain the parameter estimates $\\gamma_j$. In our case, there is only 1 $j$. \n",
    "  * Recover the original parameters $\\beta_0$ and $\\beta_j$'s. \n",
    "  \n",
    "Understand and implement this procedure to our one-variable Lasso problem and obtain the Lasso solution on the original scale. You must write your own code and use the `soft_th()` function previously defined."
   ]
  },
  {
   "cell_type": "code",
   "execution_count": 29,
   "metadata": {},
   "outputs": [],
   "source": [
    "np.random.seed(seed)\n",
    "n = 100\n",
    "X = np.random.normal(loc=1, scale=2, size=n)\n",
    "Y = 1 + X + np.random.normal(size=n)"
   ]
  },
  {
   "cell_type": "code",
   "execution_count": 30,
   "metadata": {},
   "outputs": [],
   "source": [
    "def scale_data(X, Y):\n",
    "    '''\n",
    "    Standardize data and predictions (center on mean = 0 and scale to stadard deviation = 1).\n",
    "    Returns stadardized data (X_std, Y_std) and necessary parameters (mu_j, sd_j, mu_y, sd_y) \n",
    "    to recover the predictions in the original scale.\n",
    "    '''\n",
    "    mu_j = np.mean(X, axis=0)\n",
    "    sd_j = np.std(X, axis=0)\n",
    "    mu_y = np.mean(Y, axis=0)\n",
    "    sd_y = np.std(Y, axis=0)\n",
    "   \n",
    "    X_std = (X - mu_j) / sd_j\n",
    "    Y_std = (Y - mu_y) / sd_y\n",
    "    \n",
    "    return X_std, Y_std, mu_j, sd_j, mu_y, sd_y"
   ]
  },
  {
   "cell_type": "code",
   "execution_count": 31,
   "metadata": {},
   "outputs": [],
   "source": [
    "X_std, Y_std, mu_j, sd_j, mu_y, sd_y = scale_data(X.reshape(100, 1), Y)\n",
    "\n",
    "model = LinearRegression(fit_intercept=False).fit(X_std, Y_std)\n",
    "b = model.coef_\n",
    "OLS_error = mean_squared_error(Y_std, model.predict(X_std))\n",
    "l_values = [1e-6, 1e-5, 1e-4, 1e-3, 1e-2, 1e-1, 1, 10] # Lambda values I'm considering\n",
    "size = len(l_values)\n",
    "errors = np.empty(size)\n",
    "b_0 = np.empty(size)\n",
    "b_1 = np.empty(size)\n",
    "\n",
    "for i in range(size):\n",
    "    b_lasso = soft_th(b, l_values[i])\n",
    "    Y_hat = np.matmul(X_std, b_lasso)\n",
    "    errors[i] = mean_squared_error(Y_std, Y_hat)\n",
    "    b_0[i] = mu_y - mu_j*(b_lasso*sd_y)/sd_j\n",
    "    b_1[i] = (sd_j*b_lasso)/sd_j"
   ]
  },
  {
   "cell_type": "code",
   "execution_count": 32,
   "metadata": {},
   "outputs": [],
   "source": [
    "b_0_best = b_0[errors.argmin()]\n",
    "b_1_best = b_1[errors.argmin()]"
   ]
  },
  {
   "cell_type": "code",
   "execution_count": 33,
   "metadata": {},
   "outputs": [
    {
     "name": "stdout",
     "output_type": "stream",
     "text": [
      "Best parameters (recovered to the original scale):\n",
      "b_0: 1.0993012764008838\n",
      "b_1: 0.894277827036777\n"
     ]
    }
   ],
   "source": [
    "print(\"Best parameters (recovered to the original scale):\")\n",
    "print(\"b_0:\", b_0_best)\n",
    "print(\"b_1:\", b_1_best)"
   ]
  },
  {
   "cell_type": "code",
   "execution_count": 34,
   "metadata": {},
   "outputs": [
    {
     "name": "stdout",
     "output_type": "stream",
     "text": [
      "Lasso MSE (best model, scaled dimension): 0.20026537951472662\n",
      "OLS MSE (scaled dimension): 0.20026537951372667\n"
     ]
    }
   ],
   "source": [
    "print(\"Lasso MSE (best model, scaled dimension):\", errors[errors.argmin()])\n",
    "print(\"OLS MSE (scaled dimension):\", OLS_error)"
   ]
  },
  {
   "cell_type": "code",
   "execution_count": 35,
   "metadata": {},
   "outputs": [
    {
     "data": {
      "image/png": "[encoded data removed]",
      "text/plain": [
       "<Figure size 921.6x633.6 with 1 Axes>"
      ]
     },
     "metadata": {},
     "output_type": "display_data"
    }
   ],
   "source": [
    "plt.plot(l_values, errors)\n",
    "plt.title(\"MSE vs. $\\lambda$ for one-variable Lasso regression (scaled dimension)\")\n",
    "plt.legend([\"Prediction error\"])\n",
    "plt.xlabel(\"$\\lambda$ (logscale)\")\n",
    "plt.ylabel(\"MSE\")\n",
    "plt.xscale('log')\n",
    "plt.show()\n",
    "plt.close()"
   ]
  },
  {
   "cell_type": "markdown",
   "metadata": {},
   "source": [
    "In conclusion, we were able to recover the parameters in the original scale. We can appreciate that the intercept term, $\\beta_0 = 1$ corresponds to the mean of the distribution we used to generate our data. \n",
    "\n",
    "Looking at the error, we can conclude (similarly to the previous subquestion) that applying the penalization did not result in a smaller error. This is probably because the Lasso regression is a biased estimator and we are computing the error on the training data, where the unbiased estimator will perform better even when overfitting occurs. \n",
    "\n",
    "In terms of the optimal $\\lambda$ value for the regularization, we can observe in the plot that any value lower than $10^{-2}$ achieved the same result (the MSEs are the same). For $\\lambda=1,10$ the parameter (scaled dimension) was zero."
   ]
  }
 ],
 "metadata": {
  "kernelspec": {
   "display_name": "Python 3",
   "language": "python",
   "name": "python3"
  },
  "language_info": {
   "codemirror_mode": {
    "name": "ipython",
    "version": 3
   },
   "file_extension": ".py",
   "mimetype": "text/x-python",
   "name": "python",
   "nbconvert_exporter": "python",
   "pygments_lexer": "ipython3",
   "version": "3.7.6"
  }
 },
 "nbformat": 4,
 "nbformat_minor": 4
}
